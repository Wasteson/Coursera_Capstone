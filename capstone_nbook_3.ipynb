{
    "cells": [
        {
            "cell_type": "code",
            "execution_count": 1,
            "metadata": {},
            "outputs": [],
            "source": "# to get started and make sure I have the basic libraries\nimport numpy as np\nimport pandas as pd"
        },
        {
            "cell_type": "code",
            "execution_count": 2,
            "metadata": {},
            "outputs": [
                {
                    "data": {
                        "text/html": "<div>\n<style scoped>\n    .dataframe tbody tr th:only-of-type {\n        vertical-align: middle;\n    }\n\n    .dataframe tbody tr th {\n        vertical-align: top;\n    }\n\n    .dataframe thead th {\n        text-align: right;\n    }\n</style>\n<table border=\"1\" class=\"dataframe\">\n  <thead>\n    <tr style=\"text-align: right;\">\n      <th></th>\n      <th>0</th>\n      <th>1</th>\n      <th>2</th>\n      <th>3</th>\n    </tr>\n  </thead>\n  <tbody>\n    <tr>\n      <th>0</th>\n      <td>SEVERITYCODE;X;Y;OBJECTID;INCKEY;COLDETKEY;REP...</td>\n      <td>None</td>\n      <td>None</td>\n      <td>None</td>\n    </tr>\n    <tr>\n      <th>1</th>\n      <td>2;-122.3231484;47.70314032;1;1307;1307;3502005...</td>\n      <td>FRONT END AT ANGLE;;N;Overcast;Wet;Daylight;;...</td>\n      <td>None</td>\n      <td>None</td>\n    </tr>\n    <tr>\n      <th>2</th>\n      <td>1;-122.3472943;47.64717249;2;52200;52200;26079...</td>\n      <td>LEFT SIDE SIDESWIPE;;0;Raining;Wet;Dark - Str...</td>\n      <td>None</td>\n      <td>None</td>\n    </tr>\n    <tr>\n      <th>3</th>\n      <td>1;-122.33454;47.60787143;3;26700;26700;1482393...</td>\n      <td>REAR END;;0;Overcast;Dry;Daylight;;4323031;;3...</td>\n      <td>None</td>\n      <td>None</td>\n    </tr>\n    <tr>\n      <th>4</th>\n      <td>1;-122.3348033;47.60480289;4;1144;1144;3503937...</td>\n      <td>FRONT END AT ANGLE;;N;Clear;Dry;Daylight;;;;2...</td>\n      <td>None</td>\n      <td>None</td>\n    </tr>\n  </tbody>\n</table>\n</div>",
                        "text/plain": "                                                   0  \\\n0  SEVERITYCODE;X;Y;OBJECTID;INCKEY;COLDETKEY;REP...   \n1  2;-122.3231484;47.70314032;1;1307;1307;3502005...   \n2  1;-122.3472943;47.64717249;2;52200;52200;26079...   \n3  1;-122.33454;47.60787143;3;26700;26700;1482393...   \n4  1;-122.3348033;47.60480289;4;1144;1144;3503937...   \n\n                                                   1     2     3  \n0                                               None  None  None  \n1   FRONT END AT ANGLE;;N;Overcast;Wet;Daylight;;...  None  None  \n2   LEFT SIDE SIDESWIPE;;0;Raining;Wet;Dark - Str...  None  None  \n3   REAR END;;0;Overcast;Dry;Daylight;;4323031;;3...  None  None  \n4   FRONT END AT ANGLE;;N;Clear;Dry;Daylight;;;;2...  None  None  "
                    },
                    "execution_count": 2,
                    "metadata": {},
                    "output_type": "execute_result"
                }
            ],
            "source": "# The code was removed by Watson Studio for sharing."
        },
        {
            "cell_type": "code",
            "execution_count": 3,
            "metadata": {},
            "outputs": [
                {
                    "data": {
                        "text/html": "<div>\n<style scoped>\n    .dataframe tbody tr th:only-of-type {\n        vertical-align: middle;\n    }\n\n    .dataframe tbody tr th {\n        vertical-align: top;\n    }\n\n    .dataframe thead th {\n        text-align: right;\n    }\n</style>\n<table border=\"1\" class=\"dataframe\">\n  <thead>\n    <tr style=\"text-align: right;\">\n      <th></th>\n      <th>0</th>\n      <th>1</th>\n      <th>2</th>\n      <th>3</th>\n      <th>4</th>\n      <th>5</th>\n      <th>6</th>\n      <th>7</th>\n      <th>8</th>\n      <th>9</th>\n      <th>...</th>\n      <th>8</th>\n      <th>9</th>\n      <th>10</th>\n      <th>11</th>\n      <th>12</th>\n      <th>13</th>\n      <th>0</th>\n      <th>1</th>\n      <th>2</th>\n      <th>3</th>\n    </tr>\n  </thead>\n  <tbody>\n    <tr>\n      <th>0</th>\n      <td>SEVERITYCODE</td>\n      <td>X</td>\n      <td>Y</td>\n      <td>OBJECTID</td>\n      <td>INCKEY</td>\n      <td>COLDETKEY</td>\n      <td>REPORTNO</td>\n      <td>STATUS</td>\n      <td>ADDRTYPE</td>\n      <td>INTKEY</td>\n      <td>...</td>\n      <td>None</td>\n      <td>None</td>\n      <td>None</td>\n      <td>None</td>\n      <td>None</td>\n      <td>None</td>\n      <td>None</td>\n      <td>None</td>\n      <td>None</td>\n      <td>None</td>\n    </tr>\n    <tr>\n      <th>1</th>\n      <td>2</td>\n      <td>-122.3231484</td>\n      <td>47.70314032</td>\n      <td>1</td>\n      <td>1307</td>\n      <td>1307</td>\n      <td>3502005</td>\n      <td>Matched</td>\n      <td>Intersection</td>\n      <td>37475</td>\n      <td>...</td>\n      <td>None</td>\n      <td>None</td>\n      <td>None</td>\n      <td>None</td>\n      <td>None</td>\n      <td>None</td>\n      <td>None</td>\n      <td>None</td>\n      <td>None</td>\n      <td>None</td>\n    </tr>\n    <tr>\n      <th>2</th>\n      <td>1</td>\n      <td>-122.3472943</td>\n      <td>47.64717249</td>\n      <td>2</td>\n      <td>52200</td>\n      <td>52200</td>\n      <td>2607959</td>\n      <td>Matched</td>\n      <td>Block</td>\n      <td></td>\n      <td>...</td>\n      <td>None</td>\n      <td>None</td>\n      <td>None</td>\n      <td>None</td>\n      <td>None</td>\n      <td>None</td>\n      <td>None</td>\n      <td>None</td>\n      <td>None</td>\n      <td>None</td>\n    </tr>\n    <tr>\n      <th>3</th>\n      <td>1</td>\n      <td>-122.33454</td>\n      <td>47.60787143</td>\n      <td>3</td>\n      <td>26700</td>\n      <td>26700</td>\n      <td>1482393</td>\n      <td>Matched</td>\n      <td>Block</td>\n      <td></td>\n      <td>...</td>\n      <td>None</td>\n      <td>None</td>\n      <td>None</td>\n      <td>None</td>\n      <td>None</td>\n      <td>None</td>\n      <td>None</td>\n      <td>None</td>\n      <td>None</td>\n      <td>None</td>\n    </tr>\n    <tr>\n      <th>4</th>\n      <td>1</td>\n      <td>-122.3348033</td>\n      <td>47.60480289</td>\n      <td>4</td>\n      <td>1144</td>\n      <td>1144</td>\n      <td>3503937</td>\n      <td>Matched</td>\n      <td>Block</td>\n      <td></td>\n      <td>...</td>\n      <td>None</td>\n      <td>None</td>\n      <td>None</td>\n      <td>None</td>\n      <td>None</td>\n      <td>None</td>\n      <td>None</td>\n      <td>None</td>\n      <td>None</td>\n      <td>None</td>\n    </tr>\n  </tbody>\n</table>\n<p>5 rows \u00d7 82 columns</p>\n</div>",
                        "text/plain": "             0             1            2         3       4          5   \\\n0  SEVERITYCODE             X            Y  OBJECTID  INCKEY  COLDETKEY   \n1             2  -122.3231484  47.70314032         1    1307       1307   \n2             1  -122.3472943  47.64717249         2   52200      52200   \n3             1    -122.33454  47.60787143         3   26700      26700   \n4             1  -122.3348033  47.60480289         4    1144       1144   \n\n         6        7             8       9   ...    8     9     10    11    12  \\\n0  REPORTNO   STATUS      ADDRTYPE  INTKEY  ...  None  None  None  None  None   \n1   3502005  Matched  Intersection   37475  ...  None  None  None  None  None   \n2   2607959  Matched         Block          ...  None  None  None  None  None   \n3   1482393  Matched         Block          ...  None  None  None  None  None   \n4   3503937  Matched         Block          ...  None  None  None  None  None   \n\n     13    0     1     2     3   \n0  None  None  None  None  None  \n1  None  None  None  None  None  \n2  None  None  None  None  None  \n3  None  None  None  None  None  \n4  None  None  None  None  None  \n\n[5 rows x 82 columns]"
                    },
                    "execution_count": 3,
                    "metadata": {},
                    "output_type": "execute_result"
                }
            ],
            "source": "# to set headers to work with\nheaders = [\"a\",\"b\",\"c\",\"d\"]\ndf.columns = headers\n\n# to split each columns as it contains several values, making df0, 1, 2 and 3\ndf_a = df[\"a\"].str.split(\";\", expand = True)\ndf_b = df[\"b\"].str.split(\";\", expand = True)\ndf_c = df[\"c\"].str.split(\";\", expand = True)\ndf_d = df[\"d\"].str.split(\";\", expand = True)\n\n# to join all columns into 1 dataframe\nframes = [df_a, df_b, df_c, df_d]\ndf1 = pd.concat(frames, axis=1)\ndf1.head()"
        },
        {
            "cell_type": "code",
            "execution_count": 4,
            "metadata": {},
            "outputs": [
                {
                    "data": {
                        "text/plain": "Index([  'SEVERITYCODE',              'X',              'Y',       'OBJECTID',\n               'INCKEY',      'COLDETKEY',       'REPORTNO',         'STATUS',\n             'ADDRTYPE',         'INTKEY',       'LOCATION',  'EXCEPTRSNCODE',\n        'EXCEPTRSNDESC',   'SEVERITYCODE',   'SEVERITYDESC',  'COLLISIONTYPE',\n          'PERSONCOUNT',       'PEDCOUNT',    'PEDCYLCOUNT',       'VEHCOUNT',\n              'INCDATE',        'INCDTTM',   'JUNCTIONTYPE',   'SDOT_COLCODE',\n         'SDOT_COLDESC', 'INATTENTIONIND',      'UNDERINFL',        'WEATHER',\n             'ROADCOND',      'LIGHTCOND',  'PEDROWNOTGRNT',     'SDOTCOLNUM',\n             'SPEEDING',     'ST_COLCODE',     'ST_COLDESC',     'SEGLANEKEY',\n         'CROSSWALKKEY',   'HITPARKEDCAR',             None,             None,\n                   None,             None,             None,             None,\n                   None,             None,             None,             None,\n                   None,             None,             None,             None,\n                   None,             None,             None,             None,\n                   None,             None,             None,             None,\n                   None,             None,             None,             None,\n                   None,             None,             None,             None,\n                   None,             None,             None,             None,\n                   None,             None,             None,             None,\n                   None,             None,             None,             None,\n                   None,             None],\n      dtype='object', name=0)"
                    },
                    "execution_count": 4,
                    "metadata": {},
                    "output_type": "execute_result"
                }
            ],
            "source": "# to set column names according to first row headers\ndf1.columns = df1.iloc[0]\ndf1.columns"
        },
        {
            "cell_type": "code",
            "execution_count": 5,
            "metadata": {},
            "outputs": [
                {
                    "data": {
                        "text/html": "<div>\n<style scoped>\n    .dataframe tbody tr th:only-of-type {\n        vertical-align: middle;\n    }\n\n    .dataframe tbody tr th {\n        vertical-align: top;\n    }\n\n    .dataframe thead th {\n        text-align: right;\n    }\n</style>\n<table border=\"1\" class=\"dataframe\">\n  <thead>\n    <tr style=\"text-align: right;\">\n      <th></th>\n      <th>WEATHER</th>\n      <th>ROADCOND</th>\n      <th>LIGHTCOND</th>\n      <th>SEVERITYCODE</th>\n    </tr>\n  </thead>\n  <tbody>\n    <tr>\n      <th>0</th>\n      <td>None</td>\n      <td>None</td>\n      <td>None</td>\n      <td>2</td>\n    </tr>\n    <tr>\n      <th>1</th>\n      <td>None</td>\n      <td>None</td>\n      <td>None</td>\n      <td>1</td>\n    </tr>\n    <tr>\n      <th>2</th>\n      <td>None</td>\n      <td>None</td>\n      <td>None</td>\n      <td>1</td>\n    </tr>\n    <tr>\n      <th>3</th>\n      <td>None</td>\n      <td>None</td>\n      <td>None</td>\n      <td>1</td>\n    </tr>\n    <tr>\n      <th>4</th>\n      <td>None</td>\n      <td>None</td>\n      <td>None</td>\n      <td>2</td>\n    </tr>\n    <tr>\n      <th>...</th>\n      <td>...</td>\n      <td>...</td>\n      <td>...</td>\n      <td>...</td>\n    </tr>\n    <tr>\n      <th>194668</th>\n      <td>None</td>\n      <td>None</td>\n      <td>None</td>\n      <td>2</td>\n    </tr>\n    <tr>\n      <th>194669</th>\n      <td>None</td>\n      <td>None</td>\n      <td>None</td>\n      <td>1</td>\n    </tr>\n    <tr>\n      <th>194670</th>\n      <td>None</td>\n      <td>None</td>\n      <td>None</td>\n      <td>2</td>\n    </tr>\n    <tr>\n      <th>194671</th>\n      <td>Clear</td>\n      <td>Dry</td>\n      <td>Dusk</td>\n      <td>2</td>\n    </tr>\n    <tr>\n      <th>194672</th>\n      <td>None</td>\n      <td>None</td>\n      <td>None</td>\n      <td>1</td>\n    </tr>\n  </tbody>\n</table>\n<p>194673 rows \u00d7 4 columns</p>\n</div>",
                        "text/plain": "       WEATHER ROADCOND LIGHTCOND SEVERITYCODE\n0         None     None      None            2\n1         None     None      None            1\n2         None     None      None            1\n3         None     None      None            1\n4         None     None      None            2\n...        ...      ...       ...          ...\n194668    None     None      None            2\n194669    None     None      None            1\n194670    None     None      None            2\n194671   Clear      Dry      Dusk            2\n194672    None     None      None            1\n\n[194673 rows x 4 columns]"
                    },
                    "execution_count": 5,
                    "metadata": {},
                    "output_type": "execute_result"
                }
            ],
            "source": "df2 = df1[['WEATHER', 'ROADCOND', 'LIGHTCOND']]\ndf3 = df1.iloc[:, 13]\n\n# fixing the severitycode columnname\nheaders = [\"SEVERITYCODE\"]\ndf3.columns = headers\n\n# to join the 4 columns I will work with\nframes = [df2, df3]\ndf4 = pd.concat(frames, axis=1)\n\n# to avoid first row and column names being the same\ndf4 = df4[df2.WEATHER !='WEATHER']\n\n# to reset the index and avoid old index getting added as a new column\ndf4.reset_index(drop = True)"
        },
        {
            "cell_type": "code",
            "execution_count": 6,
            "metadata": {},
            "outputs": [
                {
                    "data": {
                        "text/plain": "(194673, 4)"
                    },
                    "execution_count": 6,
                    "metadata": {},
                    "output_type": "execute_result"
                }
            ],
            "source": "df4.shape"
        },
        {
            "cell_type": "code",
            "execution_count": 7,
            "metadata": {},
            "outputs": [
                {
                    "data": {
                        "text/plain": "(28300, 4)"
                    },
                    "execution_count": 7,
                    "metadata": {},
                    "output_type": "execute_result"
                }
            ],
            "source": "# dropping NaN's\ndf4.dropna(subset=[\"WEATHER\", \"ROADCOND\", \"LIGHTCOND\"], axis=0, inplace = True)\ndf5 = df4.dropna(subset=[\"WEATHER\", \"ROADCOND\", \"LIGHTCOND\"], axis=0)\n\ndf5.shape"
        },
        {
            "cell_type": "code",
            "execution_count": 8,
            "metadata": {},
            "outputs": [
                {
                    "data": {
                        "text/plain": "(25181, 4)"
                    },
                    "execution_count": 8,
                    "metadata": {},
                    "output_type": "execute_result"
                }
            ],
            "source": "# dropping other values than NaN which is also useless; unknown, other and '' (empty)\n# I tried to do this operation in one cell but that lead to different problems I'm not sure I understand fully why\ndf6 = df5[df5.WEATHER !=\"Unknown\"]\ndf6.shape"
        },
        {
            "cell_type": "code",
            "execution_count": 9,
            "metadata": {},
            "outputs": [
                {
                    "data": {
                        "text/plain": "(25061, 4)"
                    },
                    "execution_count": 9,
                    "metadata": {},
                    "output_type": "execute_result"
                }
            ],
            "source": "df7 = df6[df6.WEATHER !=\"Other\"]\ndf7.shape"
        },
        {
            "cell_type": "code",
            "execution_count": 10,
            "metadata": {},
            "outputs": [
                {
                    "data": {
                        "text/plain": "(24544, 4)"
                    },
                    "execution_count": 10,
                    "metadata": {},
                    "output_type": "execute_result"
                }
            ],
            "source": "df8 = df7[df7.WEATHER !=\"\"]\ndf8.shape"
        },
        {
            "cell_type": "code",
            "execution_count": 11,
            "metadata": {},
            "outputs": [
                {
                    "data": {
                        "text/plain": "(24214, 4)"
                    },
                    "execution_count": 11,
                    "metadata": {},
                    "output_type": "execute_result"
                }
            ],
            "source": "df9 = df8[df8.LIGHTCOND !=\"Unknown\"]\ndf9.shape"
        },
        {
            "cell_type": "code",
            "execution_count": 12,
            "metadata": {},
            "outputs": [
                {
                    "data": {
                        "text/plain": "(24171, 4)"
                    },
                    "execution_count": 12,
                    "metadata": {},
                    "output_type": "execute_result"
                }
            ],
            "source": "df10 = df9[df9.LIGHTCOND !=\"Other\"]\ndf10.shape"
        },
        {
            "cell_type": "code",
            "execution_count": 13,
            "metadata": {},
            "outputs": [
                {
                    "data": {
                        "text/plain": "(24147, 4)"
                    },
                    "execution_count": 13,
                    "metadata": {},
                    "output_type": "execute_result"
                }
            ],
            "source": "df11 = df10[df10.LIGHTCOND !=\"\"]\ndf11.shape"
        },
        {
            "cell_type": "code",
            "execution_count": 14,
            "metadata": {},
            "outputs": [
                {
                    "data": {
                        "text/plain": "(24027, 4)"
                    },
                    "execution_count": 14,
                    "metadata": {},
                    "output_type": "execute_result"
                }
            ],
            "source": "df12 = df11[df11.ROADCOND !=\"Unknown\"]\ndf12.shape"
        },
        {
            "cell_type": "code",
            "execution_count": 15,
            "metadata": {},
            "outputs": [
                {
                    "data": {
                        "text/plain": "(23988, 4)"
                    },
                    "execution_count": 15,
                    "metadata": {},
                    "output_type": "execute_result"
                }
            ],
            "source": "df13 = df12[df12.ROADCOND !=\"Other\"]\ndf13.shape"
        },
        {
            "cell_type": "code",
            "execution_count": 16,
            "metadata": {},
            "outputs": [
                {
                    "data": {
                        "text/plain": "(23985, 4)"
                    },
                    "execution_count": 16,
                    "metadata": {},
                    "output_type": "execute_result"
                }
            ],
            "source": "df14 = df13[df13.ROADCOND !=\"\"]\ndf14.shape"
        },
        {
            "cell_type": "code",
            "execution_count": 17,
            "metadata": {},
            "outputs": [
                {
                    "data": {
                        "text/html": "<div>\n<style scoped>\n    .dataframe tbody tr th:only-of-type {\n        vertical-align: middle;\n    }\n\n    .dataframe tbody tr th {\n        vertical-align: top;\n    }\n\n    .dataframe thead th {\n        text-align: right;\n    }\n</style>\n<table border=\"1\" class=\"dataframe\">\n  <thead>\n    <tr style=\"text-align: right;\">\n      <th></th>\n      <th>WEATHER</th>\n      <th>ROADCOND</th>\n      <th>LIGHTCOND</th>\n      <th>SEVERITYCODE</th>\n    </tr>\n  </thead>\n  <tbody>\n    <tr>\n      <th>8</th>\n      <td>Clear</td>\n      <td>Dry</td>\n      <td>Daylight</td>\n      <td>2</td>\n    </tr>\n    <tr>\n      <th>33</th>\n      <td>Clear</td>\n      <td>Dry</td>\n      <td>Daylight</td>\n      <td>1</td>\n    </tr>\n    <tr>\n      <th>44</th>\n      <td>Raining</td>\n      <td>Wet</td>\n      <td>Dark - Street Lights On</td>\n      <td>2</td>\n    </tr>\n    <tr>\n      <th>45</th>\n      <td>Overcast</td>\n      <td>Wet</td>\n      <td>Daylight</td>\n      <td>1</td>\n    </tr>\n    <tr>\n      <th>65</th>\n      <td>Overcast</td>\n      <td>Dry</td>\n      <td>Dark - Street Lights On</td>\n      <td>1</td>\n    </tr>\n  </tbody>\n</table>\n</div>",
                        "text/plain": "     WEATHER ROADCOND                LIGHTCOND SEVERITYCODE\n8      Clear      Dry                 Daylight            2\n33     Clear      Dry                 Daylight            1\n44   Raining      Wet  Dark - Street Lights On            2\n45  Overcast      Wet                 Daylight            1\n65  Overcast      Dry  Dark - Street Lights On            1"
                    },
                    "execution_count": 17,
                    "metadata": {},
                    "output_type": "execute_result"
                }
            ],
            "source": "df14.head()"
        },
        {
            "cell_type": "code",
            "execution_count": 18,
            "metadata": {},
            "outputs": [
                {
                    "data": {
                        "text/html": "<div>\n<style scoped>\n    .dataframe tbody tr th:only-of-type {\n        vertical-align: middle;\n    }\n\n    .dataframe tbody tr th {\n        vertical-align: top;\n    }\n\n    .dataframe thead th {\n        text-align: right;\n    }\n</style>\n<table border=\"1\" class=\"dataframe\">\n  <thead>\n    <tr style=\"text-align: right;\">\n      <th></th>\n      <th>SEVERITYCODE</th>\n    </tr>\n  </thead>\n  <tbody>\n    <tr>\n      <th>1</th>\n      <td>12897</td>\n    </tr>\n    <tr>\n      <th>2</th>\n      <td>11088</td>\n    </tr>\n  </tbody>\n</table>\n</div>",
                        "text/plain": "   SEVERITYCODE\n1         12897\n2         11088"
                    },
                    "execution_count": 18,
                    "metadata": {},
                    "output_type": "execute_result"
                }
            ],
            "source": "# in regards to balancing checking severitycode\ndf_sev = df14[\"SEVERITYCODE\"]\ndf_sev.value_counts().to_frame()"
        },
        {
            "cell_type": "code",
            "execution_count": 19,
            "metadata": {},
            "outputs": [],
            "source": "# balancing the severitycode column\ndf15 = df14.loc[df14['SEVERITYCODE'] == '2']\ndf16 = df14.loc[df14['SEVERITYCODE'] == '1'].sample(n=len(df15))"
        },
        {
            "cell_type": "code",
            "execution_count": 20,
            "metadata": {},
            "outputs": [
                {
                    "data": {
                        "text/plain": "(22176, 4)"
                    },
                    "execution_count": 20,
                    "metadata": {},
                    "output_type": "execute_result"
                }
            ],
            "source": "# to join the 2 frames again so that I have the balanced df to work with\nframes = [df15, df16]\ndf17 = pd.concat(frames, axis=0)\ndf17.shape"
        },
        {
            "cell_type": "code",
            "execution_count": 21,
            "metadata": {},
            "outputs": [
                {
                    "data": {
                        "text/html": "<div>\n<style scoped>\n    .dataframe tbody tr th:only-of-type {\n        vertical-align: middle;\n    }\n\n    .dataframe tbody tr th {\n        vertical-align: top;\n    }\n\n    .dataframe thead th {\n        text-align: right;\n    }\n</style>\n<table border=\"1\" class=\"dataframe\">\n  <thead>\n    <tr style=\"text-align: right;\">\n      <th></th>\n      <th>WEATHER</th>\n      <th>ROADCOND</th>\n      <th>LIGHTCOND</th>\n      <th>SEVERITYCODE</th>\n    </tr>\n  </thead>\n  <tbody>\n    <tr>\n      <th>8</th>\n      <td>Clear</td>\n      <td>Dry</td>\n      <td>Daylight</td>\n      <td>2</td>\n    </tr>\n    <tr>\n      <th>44</th>\n      <td>Raining</td>\n      <td>Wet</td>\n      <td>Dark - Street Lights On</td>\n      <td>2</td>\n    </tr>\n    <tr>\n      <th>72</th>\n      <td>Clear</td>\n      <td>Dry</td>\n      <td>Daylight</td>\n      <td>2</td>\n    </tr>\n    <tr>\n      <th>85</th>\n      <td>Clear</td>\n      <td>Dry</td>\n      <td>Daylight</td>\n      <td>2</td>\n    </tr>\n    <tr>\n      <th>91</th>\n      <td>Clear</td>\n      <td>Dry</td>\n      <td>Daylight</td>\n      <td>2</td>\n    </tr>\n  </tbody>\n</table>\n</div>",
                        "text/plain": "    WEATHER ROADCOND                LIGHTCOND SEVERITYCODE\n8     Clear      Dry                 Daylight            2\n44  Raining      Wet  Dark - Street Lights On            2\n72    Clear      Dry                 Daylight            2\n85    Clear      Dry                 Daylight            2\n91    Clear      Dry                 Daylight            2"
                    },
                    "execution_count": 21,
                    "metadata": {},
                    "output_type": "execute_result"
                }
            ],
            "source": "df17.head()"
        },
        {
            "cell_type": "code",
            "execution_count": 22,
            "metadata": {},
            "outputs": [
                {
                    "data": {
                        "text/html": "<div>\n<style scoped>\n    .dataframe tbody tr th:only-of-type {\n        vertical-align: middle;\n    }\n\n    .dataframe tbody tr th {\n        vertical-align: top;\n    }\n\n    .dataframe thead th {\n        text-align: right;\n    }\n</style>\n<table border=\"1\" class=\"dataframe\">\n  <thead>\n    <tr style=\"text-align: right;\">\n      <th></th>\n      <th>WEATHER</th>\n      <th>ROADCOND</th>\n      <th>LIGHTCOND</th>\n      <th>SEVERITYCODE</th>\n    </tr>\n  </thead>\n  <tbody>\n    <tr>\n      <th>0</th>\n      <td>Clear</td>\n      <td>Dry</td>\n      <td>Daylight</td>\n      <td>2</td>\n    </tr>\n    <tr>\n      <th>1</th>\n      <td>Raining</td>\n      <td>Wet</td>\n      <td>Dark - Street Lights On</td>\n      <td>2</td>\n    </tr>\n    <tr>\n      <th>2</th>\n      <td>Clear</td>\n      <td>Dry</td>\n      <td>Daylight</td>\n      <td>2</td>\n    </tr>\n    <tr>\n      <th>3</th>\n      <td>Clear</td>\n      <td>Dry</td>\n      <td>Daylight</td>\n      <td>2</td>\n    </tr>\n    <tr>\n      <th>4</th>\n      <td>Clear</td>\n      <td>Dry</td>\n      <td>Daylight</td>\n      <td>2</td>\n    </tr>\n    <tr>\n      <th>...</th>\n      <td>...</td>\n      <td>...</td>\n      <td>...</td>\n      <td>...</td>\n    </tr>\n    <tr>\n      <th>22171</th>\n      <td>Raining</td>\n      <td>Wet</td>\n      <td>Dark - Street Lights On</td>\n      <td>1</td>\n    </tr>\n    <tr>\n      <th>22172</th>\n      <td>Raining</td>\n      <td>Wet</td>\n      <td>Dark - Street Lights On</td>\n      <td>1</td>\n    </tr>\n    <tr>\n      <th>22173</th>\n      <td>Raining</td>\n      <td>Wet</td>\n      <td>Dark - Street Lights On</td>\n      <td>1</td>\n    </tr>\n    <tr>\n      <th>22174</th>\n      <td>Overcast</td>\n      <td>Dry</td>\n      <td>Daylight</td>\n      <td>1</td>\n    </tr>\n    <tr>\n      <th>22175</th>\n      <td>Clear</td>\n      <td>Dry</td>\n      <td>Dusk</td>\n      <td>1</td>\n    </tr>\n  </tbody>\n</table>\n<p>22176 rows \u00d7 4 columns</p>\n</div>",
                        "text/plain": "        WEATHER ROADCOND                LIGHTCOND SEVERITYCODE\n0         Clear      Dry                 Daylight            2\n1       Raining      Wet  Dark - Street Lights On            2\n2         Clear      Dry                 Daylight            2\n3         Clear      Dry                 Daylight            2\n4         Clear      Dry                 Daylight            2\n...         ...      ...                      ...          ...\n22171   Raining      Wet  Dark - Street Lights On            1\n22172   Raining      Wet  Dark - Street Lights On            1\n22173   Raining      Wet  Dark - Street Lights On            1\n22174  Overcast      Dry                 Daylight            1\n22175     Clear      Dry                     Dusk            1\n\n[22176 rows x 4 columns]"
                    },
                    "execution_count": 22,
                    "metadata": {},
                    "output_type": "execute_result"
                }
            ],
            "source": "# resetting index\ndf17.reset_index(drop = True)"
        },
        {
            "cell_type": "code",
            "execution_count": 23,
            "metadata": {},
            "outputs": [
                {
                    "data": {
                        "text/plain": "WEATHER         object\nROADCOND        object\nLIGHTCOND       object\nSEVERITYCODE    object\ndtype: object"
                    },
                    "execution_count": 23,
                    "metadata": {},
                    "output_type": "execute_result"
                }
            ],
            "source": "df17.dtypes"
        },
        {
            "cell_type": "code",
            "execution_count": 24,
            "metadata": {},
            "outputs": [
                {
                    "data": {
                        "text/plain": "WEATHER         object\nROADCOND        object\nLIGHTCOND       object\nSEVERITYCODE     int64\ndtype: object"
                    },
                    "execution_count": 24,
                    "metadata": {},
                    "output_type": "execute_result"
                }
            ],
            "source": "# to avoid any potential trouble with the severitycode being of type 'object' -> integer\ndf17[\"SEVERITYCODE\"] = df17[\"SEVERITYCODE\"].astype(\"int\")\ndf17.dtypes"
        },
        {
            "cell_type": "code",
            "execution_count": 25,
            "metadata": {},
            "outputs": [
                {
                    "data": {
                        "text/html": "<div>\n<style scoped>\n    .dataframe tbody tr th:only-of-type {\n        vertical-align: middle;\n    }\n\n    .dataframe tbody tr th {\n        vertical-align: top;\n    }\n\n    .dataframe thead th {\n        text-align: right;\n    }\n</style>\n<table border=\"1\" class=\"dataframe\">\n  <thead>\n    <tr style=\"text-align: right;\">\n      <th></th>\n      <th>WEATHER</th>\n      <th>ROADCOND</th>\n      <th>LIGHTCOND</th>\n      <th>SEVERITYCODE</th>\n      <th>Blowing Sand/Dirt</th>\n      <th>Clear</th>\n      <th>Fog/Smog/Smoke</th>\n      <th>Overcast</th>\n      <th>Partly Cloudy</th>\n      <th>Raining</th>\n      <th>Severe Crosswind</th>\n      <th>Sleet/Hail/Freezing Rain</th>\n      <th>Snowing</th>\n    </tr>\n  </thead>\n  <tbody>\n    <tr>\n      <th>8</th>\n      <td>Clear</td>\n      <td>Dry</td>\n      <td>Daylight</td>\n      <td>2</td>\n      <td>0</td>\n      <td>1</td>\n      <td>0</td>\n      <td>0</td>\n      <td>0</td>\n      <td>0</td>\n      <td>0</td>\n      <td>0</td>\n      <td>0</td>\n    </tr>\n    <tr>\n      <th>44</th>\n      <td>Raining</td>\n      <td>Wet</td>\n      <td>Dark - Street Lights On</td>\n      <td>2</td>\n      <td>0</td>\n      <td>0</td>\n      <td>0</td>\n      <td>0</td>\n      <td>0</td>\n      <td>1</td>\n      <td>0</td>\n      <td>0</td>\n      <td>0</td>\n    </tr>\n    <tr>\n      <th>72</th>\n      <td>Clear</td>\n      <td>Dry</td>\n      <td>Daylight</td>\n      <td>2</td>\n      <td>0</td>\n      <td>1</td>\n      <td>0</td>\n      <td>0</td>\n      <td>0</td>\n      <td>0</td>\n      <td>0</td>\n      <td>0</td>\n      <td>0</td>\n    </tr>\n    <tr>\n      <th>85</th>\n      <td>Clear</td>\n      <td>Dry</td>\n      <td>Daylight</td>\n      <td>2</td>\n      <td>0</td>\n      <td>1</td>\n      <td>0</td>\n      <td>0</td>\n      <td>0</td>\n      <td>0</td>\n      <td>0</td>\n      <td>0</td>\n      <td>0</td>\n    </tr>\n    <tr>\n      <th>91</th>\n      <td>Clear</td>\n      <td>Dry</td>\n      <td>Daylight</td>\n      <td>2</td>\n      <td>0</td>\n      <td>1</td>\n      <td>0</td>\n      <td>0</td>\n      <td>0</td>\n      <td>0</td>\n      <td>0</td>\n      <td>0</td>\n      <td>0</td>\n    </tr>\n  </tbody>\n</table>\n</div>",
                        "text/plain": "    WEATHER ROADCOND                LIGHTCOND  SEVERITYCODE  \\\n8     Clear      Dry                 Daylight             2   \n44  Raining      Wet  Dark - Street Lights On             2   \n72    Clear      Dry                 Daylight             2   \n85    Clear      Dry                 Daylight             2   \n91    Clear      Dry                 Daylight             2   \n\n    Blowing Sand/Dirt  Clear  Fog/Smog/Smoke  Overcast  Partly Cloudy  \\\n8                   0      1               0         0              0   \n44                  0      0               0         0              0   \n72                  0      1               0         0              0   \n85                  0      1               0         0              0   \n91                  0      1               0         0              0   \n\n    Raining  Severe Crosswind  Sleet/Hail/Freezing Rain  Snowing  \n8         0                 0                         0        0  \n44        1                 0                         0        0  \n72        0                 0                         0        0  \n85        0                 0                         0        0  \n91        0                 0                         0        0  "
                    },
                    "execution_count": 25,
                    "metadata": {},
                    "output_type": "execute_result"
                }
            ],
            "source": "# use one hot encoding technique to convert object variables to binary variables\n\ndf18 = pd.concat([df17,pd.get_dummies(df17['WEATHER'])], axis=1)\n# df18 = pd.concat([df17,pd.get_dummies(df17['ROADCOND'])], axis=1)\n# df18 = pd.concat([df17,pd.get_dummies(df17['LIGHTCOND'])], axis=1)\ndf18.head()"
        },
        {
            "cell_type": "code",
            "execution_count": 26,
            "metadata": {},
            "outputs": [],
            "source": "df19 = df18[['ROADCOND', 'LIGHTCOND', 'SEVERITYCODE', 'Blowing Sand/Dirt', 'Clear', 'Fog/Smog/Smoke', 'Overcast', 'Severe Crosswind', 'Sleet/Hail/Freezing Rain', 'Snowing']]"
        },
        {
            "cell_type": "code",
            "execution_count": 27,
            "metadata": {},
            "outputs": [
                {
                    "data": {
                        "text/html": "<div>\n<style scoped>\n    .dataframe tbody tr th:only-of-type {\n        vertical-align: middle;\n    }\n\n    .dataframe tbody tr th {\n        vertical-align: top;\n    }\n\n    .dataframe thead th {\n        text-align: right;\n    }\n</style>\n<table border=\"1\" class=\"dataframe\">\n  <thead>\n    <tr style=\"text-align: right;\">\n      <th></th>\n      <th>ROADCOND</th>\n      <th>LIGHTCOND</th>\n      <th>SEVERITYCODE</th>\n      <th>Blowing Sand/Dirt</th>\n      <th>Clear</th>\n      <th>Fog/Smog/Smoke</th>\n      <th>Overcast</th>\n      <th>Severe Crosswind</th>\n      <th>Sleet/Hail/Freezing Rain</th>\n      <th>Snowing</th>\n      <th>Dry</th>\n      <th>Ice</th>\n      <th>Oil</th>\n      <th>Sand/Mud/Dirt</th>\n      <th>Snow/Slush</th>\n      <th>Standing Water</th>\n      <th>Wet</th>\n    </tr>\n  </thead>\n  <tbody>\n    <tr>\n      <th>8</th>\n      <td>Dry</td>\n      <td>Daylight</td>\n      <td>2</td>\n      <td>0</td>\n      <td>1</td>\n      <td>0</td>\n      <td>0</td>\n      <td>0</td>\n      <td>0</td>\n      <td>0</td>\n      <td>1</td>\n      <td>0</td>\n      <td>0</td>\n      <td>0</td>\n      <td>0</td>\n      <td>0</td>\n      <td>0</td>\n    </tr>\n    <tr>\n      <th>44</th>\n      <td>Wet</td>\n      <td>Dark - Street Lights On</td>\n      <td>2</td>\n      <td>0</td>\n      <td>0</td>\n      <td>0</td>\n      <td>0</td>\n      <td>0</td>\n      <td>0</td>\n      <td>0</td>\n      <td>0</td>\n      <td>0</td>\n      <td>0</td>\n      <td>0</td>\n      <td>0</td>\n      <td>0</td>\n      <td>1</td>\n    </tr>\n    <tr>\n      <th>72</th>\n      <td>Dry</td>\n      <td>Daylight</td>\n      <td>2</td>\n      <td>0</td>\n      <td>1</td>\n      <td>0</td>\n      <td>0</td>\n      <td>0</td>\n      <td>0</td>\n      <td>0</td>\n      <td>1</td>\n      <td>0</td>\n      <td>0</td>\n      <td>0</td>\n      <td>0</td>\n      <td>0</td>\n      <td>0</td>\n    </tr>\n    <tr>\n      <th>85</th>\n      <td>Dry</td>\n      <td>Daylight</td>\n      <td>2</td>\n      <td>0</td>\n      <td>1</td>\n      <td>0</td>\n      <td>0</td>\n      <td>0</td>\n      <td>0</td>\n      <td>0</td>\n      <td>1</td>\n      <td>0</td>\n      <td>0</td>\n      <td>0</td>\n      <td>0</td>\n      <td>0</td>\n      <td>0</td>\n    </tr>\n    <tr>\n      <th>91</th>\n      <td>Dry</td>\n      <td>Daylight</td>\n      <td>2</td>\n      <td>0</td>\n      <td>1</td>\n      <td>0</td>\n      <td>0</td>\n      <td>0</td>\n      <td>0</td>\n      <td>0</td>\n      <td>1</td>\n      <td>0</td>\n      <td>0</td>\n      <td>0</td>\n      <td>0</td>\n      <td>0</td>\n      <td>0</td>\n    </tr>\n  </tbody>\n</table>\n</div>",
                        "text/plain": "   ROADCOND                LIGHTCOND  SEVERITYCODE  Blowing Sand/Dirt  Clear  \\\n8       Dry                 Daylight             2                  0      1   \n44      Wet  Dark - Street Lights On             2                  0      0   \n72      Dry                 Daylight             2                  0      1   \n85      Dry                 Daylight             2                  0      1   \n91      Dry                 Daylight             2                  0      1   \n\n    Fog/Smog/Smoke  Overcast  Severe Crosswind  Sleet/Hail/Freezing Rain  \\\n8                0         0                 0                         0   \n44               0         0                 0                         0   \n72               0         0                 0                         0   \n85               0         0                 0                         0   \n91               0         0                 0                         0   \n\n    Snowing  Dry  Ice  Oil  Sand/Mud/Dirt  Snow/Slush  Standing Water  Wet  \n8         0    1    0    0              0           0               0    0  \n44        0    0    0    0              0           0               0    1  \n72        0    1    0    0              0           0               0    0  \n85        0    1    0    0              0           0               0    0  \n91        0    1    0    0              0           0               0    0  "
                    },
                    "execution_count": 27,
                    "metadata": {},
                    "output_type": "execute_result"
                }
            ],
            "source": "df20 = pd.concat([df19,pd.get_dummies(df19['ROADCOND'])], axis=1)\ndf20.head()"
        },
        {
            "cell_type": "code",
            "execution_count": 28,
            "metadata": {},
            "outputs": [
                {
                    "data": {
                        "text/plain": "(22176, 15)"
                    },
                    "execution_count": 28,
                    "metadata": {},
                    "output_type": "execute_result"
                }
            ],
            "source": "df21 = df20[['LIGHTCOND', 'SEVERITYCODE', 'Blowing Sand/Dirt', 'Clear', 'Fog/Smog/Smoke', 'Overcast', 'Severe Crosswind', 'Sleet/Hail/Freezing Rain', 'Snowing', 'Dry', 'Ice', 'Oil', 'Sand/Mud/Dirt', 'Snow/Slush', 'Wet']]\n\ndf21.shape"
        },
        {
            "cell_type": "code",
            "execution_count": 29,
            "metadata": {},
            "outputs": [
                {
                    "data": {
                        "text/html": "<div>\n<style scoped>\n    .dataframe tbody tr th:only-of-type {\n        vertical-align: middle;\n    }\n\n    .dataframe tbody tr th {\n        vertical-align: top;\n    }\n\n    .dataframe thead th {\n        text-align: right;\n    }\n</style>\n<table border=\"1\" class=\"dataframe\">\n  <thead>\n    <tr style=\"text-align: right;\">\n      <th></th>\n      <th>LIGHTCOND</th>\n      <th>SEVERITYCODE</th>\n      <th>Blowing Sand/Dirt</th>\n      <th>Clear</th>\n      <th>Fog/Smog/Smoke</th>\n      <th>Overcast</th>\n      <th>Severe Crosswind</th>\n      <th>Sleet/Hail/Freezing Rain</th>\n      <th>Snowing</th>\n      <th>Dry</th>\n      <th>...</th>\n      <th>Sand/Mud/Dirt</th>\n      <th>Snow/Slush</th>\n      <th>Wet</th>\n      <th>Dark - No Street Lights</th>\n      <th>Dark - Street Lights Off</th>\n      <th>Dark - Street Lights On</th>\n      <th>Dark - Unknown Lighting</th>\n      <th>Dawn</th>\n      <th>Daylight</th>\n      <th>Dusk</th>\n    </tr>\n  </thead>\n  <tbody>\n    <tr>\n      <th>8</th>\n      <td>Daylight</td>\n      <td>2</td>\n      <td>0</td>\n      <td>1</td>\n      <td>0</td>\n      <td>0</td>\n      <td>0</td>\n      <td>0</td>\n      <td>0</td>\n      <td>1</td>\n      <td>...</td>\n      <td>0</td>\n      <td>0</td>\n      <td>0</td>\n      <td>0</td>\n      <td>0</td>\n      <td>0</td>\n      <td>0</td>\n      <td>0</td>\n      <td>1</td>\n      <td>0</td>\n    </tr>\n    <tr>\n      <th>44</th>\n      <td>Dark - Street Lights On</td>\n      <td>2</td>\n      <td>0</td>\n      <td>0</td>\n      <td>0</td>\n      <td>0</td>\n      <td>0</td>\n      <td>0</td>\n      <td>0</td>\n      <td>0</td>\n      <td>...</td>\n      <td>0</td>\n      <td>0</td>\n      <td>1</td>\n      <td>0</td>\n      <td>0</td>\n      <td>1</td>\n      <td>0</td>\n      <td>0</td>\n      <td>0</td>\n      <td>0</td>\n    </tr>\n    <tr>\n      <th>72</th>\n      <td>Daylight</td>\n      <td>2</td>\n      <td>0</td>\n      <td>1</td>\n      <td>0</td>\n      <td>0</td>\n      <td>0</td>\n      <td>0</td>\n      <td>0</td>\n      <td>1</td>\n      <td>...</td>\n      <td>0</td>\n      <td>0</td>\n      <td>0</td>\n      <td>0</td>\n      <td>0</td>\n      <td>0</td>\n      <td>0</td>\n      <td>0</td>\n      <td>1</td>\n      <td>0</td>\n    </tr>\n    <tr>\n      <th>85</th>\n      <td>Daylight</td>\n      <td>2</td>\n      <td>0</td>\n      <td>1</td>\n      <td>0</td>\n      <td>0</td>\n      <td>0</td>\n      <td>0</td>\n      <td>0</td>\n      <td>1</td>\n      <td>...</td>\n      <td>0</td>\n      <td>0</td>\n      <td>0</td>\n      <td>0</td>\n      <td>0</td>\n      <td>0</td>\n      <td>0</td>\n      <td>0</td>\n      <td>1</td>\n      <td>0</td>\n    </tr>\n    <tr>\n      <th>91</th>\n      <td>Daylight</td>\n      <td>2</td>\n      <td>0</td>\n      <td>1</td>\n      <td>0</td>\n      <td>0</td>\n      <td>0</td>\n      <td>0</td>\n      <td>0</td>\n      <td>1</td>\n      <td>...</td>\n      <td>0</td>\n      <td>0</td>\n      <td>0</td>\n      <td>0</td>\n      <td>0</td>\n      <td>0</td>\n      <td>0</td>\n      <td>0</td>\n      <td>1</td>\n      <td>0</td>\n    </tr>\n  </tbody>\n</table>\n<p>5 rows \u00d7 22 columns</p>\n</div>",
                        "text/plain": "                  LIGHTCOND  SEVERITYCODE  Blowing Sand/Dirt  Clear  \\\n8                  Daylight             2                  0      1   \n44  Dark - Street Lights On             2                  0      0   \n72                 Daylight             2                  0      1   \n85                 Daylight             2                  0      1   \n91                 Daylight             2                  0      1   \n\n    Fog/Smog/Smoke  Overcast  Severe Crosswind  Sleet/Hail/Freezing Rain  \\\n8                0         0                 0                         0   \n44               0         0                 0                         0   \n72               0         0                 0                         0   \n85               0         0                 0                         0   \n91               0         0                 0                         0   \n\n    Snowing  Dry  ...  Sand/Mud/Dirt  Snow/Slush  Wet  \\\n8         0    1  ...              0           0    0   \n44        0    0  ...              0           0    1   \n72        0    1  ...              0           0    0   \n85        0    1  ...              0           0    0   \n91        0    1  ...              0           0    0   \n\n    Dark - No Street Lights  Dark - Street Lights Off  \\\n8                         0                         0   \n44                        0                         0   \n72                        0                         0   \n85                        0                         0   \n91                        0                         0   \n\n    Dark - Street Lights On  Dark - Unknown Lighting  Dawn  Daylight  Dusk  \n8                         0                        0     0         1     0  \n44                        1                        0     0         0     0  \n72                        0                        0     0         1     0  \n85                        0                        0     0         1     0  \n91                        0                        0     0         1     0  \n\n[5 rows x 22 columns]"
                    },
                    "execution_count": 29,
                    "metadata": {},
                    "output_type": "execute_result"
                }
            ],
            "source": "df22 = pd.concat([df21,pd.get_dummies(df19['LIGHTCOND'])], axis=1)\ndf22.head()"
        },
        {
            "cell_type": "code",
            "execution_count": 30,
            "metadata": {},
            "outputs": [
                {
                    "data": {
                        "text/plain": "(22176, 20)"
                    },
                    "execution_count": 30,
                    "metadata": {},
                    "output_type": "execute_result"
                }
            ],
            "source": "df23 = df22[['SEVERITYCODE', 'Blowing Sand/Dirt', 'Clear', 'Fog/Smog/Smoke', 'Overcast', 'Severe Crosswind', 'Sleet/Hail/Freezing Rain', 'Snowing', 'Dry', 'Ice', 'Oil', 'Sand/Mud/Dirt', 'Snow/Slush', 'Wet', 'Dark - No Street Lights', 'Dark - Street Lights Off', 'Dark - Street Lights On', 'Dawn', 'Daylight', 'Dusk']]\n\ndf23.shape"
        },
        {
            "cell_type": "code",
            "execution_count": 31,
            "metadata": {},
            "outputs": [
                {
                    "data": {
                        "text/html": "<div>\n<style scoped>\n    .dataframe tbody tr th:only-of-type {\n        vertical-align: middle;\n    }\n\n    .dataframe tbody tr th {\n        vertical-align: top;\n    }\n\n    .dataframe thead th {\n        text-align: right;\n    }\n</style>\n<table border=\"1\" class=\"dataframe\">\n  <thead>\n    <tr style=\"text-align: right;\">\n      <th></th>\n      <th>SEVERITYCODE</th>\n      <th>Blowing Sand/Dirt</th>\n      <th>Clear</th>\n      <th>Fog/Smog/Smoke</th>\n      <th>Overcast</th>\n      <th>Severe Crosswind</th>\n      <th>Sleet/Hail/Freezing Rain</th>\n      <th>Snowing</th>\n      <th>Dry</th>\n      <th>Ice</th>\n      <th>Oil</th>\n      <th>Sand/Mud/Dirt</th>\n      <th>Snow/Slush</th>\n      <th>Wet</th>\n      <th>Dark - No Street Lights</th>\n      <th>Dark - Street Lights Off</th>\n      <th>Dark - Street Lights On</th>\n      <th>Dawn</th>\n      <th>Daylight</th>\n      <th>Dusk</th>\n    </tr>\n  </thead>\n  <tbody>\n    <tr>\n      <th>8</th>\n      <td>2</td>\n      <td>0</td>\n      <td>1</td>\n      <td>0</td>\n      <td>0</td>\n      <td>0</td>\n      <td>0</td>\n      <td>0</td>\n      <td>1</td>\n      <td>0</td>\n      <td>0</td>\n      <td>0</td>\n      <td>0</td>\n      <td>0</td>\n      <td>0</td>\n      <td>0</td>\n      <td>0</td>\n      <td>0</td>\n      <td>1</td>\n      <td>0</td>\n    </tr>\n    <tr>\n      <th>44</th>\n      <td>2</td>\n      <td>0</td>\n      <td>0</td>\n      <td>0</td>\n      <td>0</td>\n      <td>0</td>\n      <td>0</td>\n      <td>0</td>\n      <td>0</td>\n      <td>0</td>\n      <td>0</td>\n      <td>0</td>\n      <td>0</td>\n      <td>1</td>\n      <td>0</td>\n      <td>0</td>\n      <td>1</td>\n      <td>0</td>\n      <td>0</td>\n      <td>0</td>\n    </tr>\n    <tr>\n      <th>72</th>\n      <td>2</td>\n      <td>0</td>\n      <td>1</td>\n      <td>0</td>\n      <td>0</td>\n      <td>0</td>\n      <td>0</td>\n      <td>0</td>\n      <td>1</td>\n      <td>0</td>\n      <td>0</td>\n      <td>0</td>\n      <td>0</td>\n      <td>0</td>\n      <td>0</td>\n      <td>0</td>\n      <td>0</td>\n      <td>0</td>\n      <td>1</td>\n      <td>0</td>\n    </tr>\n    <tr>\n      <th>85</th>\n      <td>2</td>\n      <td>0</td>\n      <td>1</td>\n      <td>0</td>\n      <td>0</td>\n      <td>0</td>\n      <td>0</td>\n      <td>0</td>\n      <td>1</td>\n      <td>0</td>\n      <td>0</td>\n      <td>0</td>\n      <td>0</td>\n      <td>0</td>\n      <td>0</td>\n      <td>0</td>\n      <td>0</td>\n      <td>0</td>\n      <td>1</td>\n      <td>0</td>\n    </tr>\n    <tr>\n      <th>91</th>\n      <td>2</td>\n      <td>0</td>\n      <td>1</td>\n      <td>0</td>\n      <td>0</td>\n      <td>0</td>\n      <td>0</td>\n      <td>0</td>\n      <td>1</td>\n      <td>0</td>\n      <td>0</td>\n      <td>0</td>\n      <td>0</td>\n      <td>0</td>\n      <td>0</td>\n      <td>0</td>\n      <td>0</td>\n      <td>0</td>\n      <td>1</td>\n      <td>0</td>\n    </tr>\n  </tbody>\n</table>\n</div>",
                        "text/plain": "    SEVERITYCODE  Blowing Sand/Dirt  Clear  Fog/Smog/Smoke  Overcast  \\\n8              2                  0      1               0         0   \n44             2                  0      0               0         0   \n72             2                  0      1               0         0   \n85             2                  0      1               0         0   \n91             2                  0      1               0         0   \n\n    Severe Crosswind  Sleet/Hail/Freezing Rain  Snowing  Dry  Ice  Oil  \\\n8                  0                         0        0    1    0    0   \n44                 0                         0        0    0    0    0   \n72                 0                         0        0    1    0    0   \n85                 0                         0        0    1    0    0   \n91                 0                         0        0    1    0    0   \n\n    Sand/Mud/Dirt  Snow/Slush  Wet  Dark - No Street Lights  \\\n8               0           0    0                        0   \n44              0           0    1                        0   \n72              0           0    0                        0   \n85              0           0    0                        0   \n91              0           0    0                        0   \n\n    Dark - Street Lights Off  Dark - Street Lights On  Dawn  Daylight  Dusk  \n8                          0                        0     0         1     0  \n44                         0                        1     0         0     0  \n72                         0                        0     0         1     0  \n85                         0                        0     0         1     0  \n91                         0                        0     0         1     0  "
                    },
                    "execution_count": 31,
                    "metadata": {},
                    "output_type": "execute_result"
                }
            ],
            "source": "df23.head()"
        },
        {
            "cell_type": "code",
            "execution_count": 32,
            "metadata": {},
            "outputs": [
                {
                    "data": {
                        "text/html": "<div>\n<style scoped>\n    .dataframe tbody tr th:only-of-type {\n        vertical-align: middle;\n    }\n\n    .dataframe tbody tr th {\n        vertical-align: top;\n    }\n\n    .dataframe thead th {\n        text-align: right;\n    }\n</style>\n<table border=\"1\" class=\"dataframe\">\n  <thead>\n    <tr style=\"text-align: right;\">\n      <th></th>\n      <th>SEVERITYCODE</th>\n      <th>Blowing Sand/Dirt</th>\n      <th>Clear</th>\n      <th>Fog/Smog/Smoke</th>\n      <th>Overcast</th>\n      <th>Severe Crosswind</th>\n      <th>Sleet/Hail/Freezing Rain</th>\n      <th>Snowing</th>\n      <th>Dry</th>\n      <th>Ice</th>\n      <th>Oil</th>\n      <th>Sand/Mud/Dirt</th>\n      <th>Snow/Slush</th>\n      <th>Wet</th>\n      <th>Dark - No Street Lights</th>\n      <th>Dark - Street Lights Off</th>\n      <th>Dark - Street Lights On</th>\n      <th>Dawn</th>\n      <th>Daylight</th>\n      <th>Dusk</th>\n    </tr>\n  </thead>\n  <tbody>\n    <tr>\n      <th>0</th>\n      <td>2</td>\n      <td>0</td>\n      <td>1</td>\n      <td>0</td>\n      <td>0</td>\n      <td>0</td>\n      <td>0</td>\n      <td>0</td>\n      <td>1</td>\n      <td>0</td>\n      <td>0</td>\n      <td>0</td>\n      <td>0</td>\n      <td>0</td>\n      <td>0</td>\n      <td>0</td>\n      <td>0</td>\n      <td>0</td>\n      <td>1</td>\n      <td>0</td>\n    </tr>\n    <tr>\n      <th>1</th>\n      <td>2</td>\n      <td>0</td>\n      <td>0</td>\n      <td>0</td>\n      <td>0</td>\n      <td>0</td>\n      <td>0</td>\n      <td>0</td>\n      <td>0</td>\n      <td>0</td>\n      <td>0</td>\n      <td>0</td>\n      <td>0</td>\n      <td>1</td>\n      <td>0</td>\n      <td>0</td>\n      <td>1</td>\n      <td>0</td>\n      <td>0</td>\n      <td>0</td>\n    </tr>\n    <tr>\n      <th>2</th>\n      <td>2</td>\n      <td>0</td>\n      <td>1</td>\n      <td>0</td>\n      <td>0</td>\n      <td>0</td>\n      <td>0</td>\n      <td>0</td>\n      <td>1</td>\n      <td>0</td>\n      <td>0</td>\n      <td>0</td>\n      <td>0</td>\n      <td>0</td>\n      <td>0</td>\n      <td>0</td>\n      <td>0</td>\n      <td>0</td>\n      <td>1</td>\n      <td>0</td>\n    </tr>\n    <tr>\n      <th>3</th>\n      <td>2</td>\n      <td>0</td>\n      <td>1</td>\n      <td>0</td>\n      <td>0</td>\n      <td>0</td>\n      <td>0</td>\n      <td>0</td>\n      <td>1</td>\n      <td>0</td>\n      <td>0</td>\n      <td>0</td>\n      <td>0</td>\n      <td>0</td>\n      <td>0</td>\n      <td>0</td>\n      <td>0</td>\n      <td>0</td>\n      <td>1</td>\n      <td>0</td>\n    </tr>\n    <tr>\n      <th>4</th>\n      <td>2</td>\n      <td>0</td>\n      <td>1</td>\n      <td>0</td>\n      <td>0</td>\n      <td>0</td>\n      <td>0</td>\n      <td>0</td>\n      <td>1</td>\n      <td>0</td>\n      <td>0</td>\n      <td>0</td>\n      <td>0</td>\n      <td>0</td>\n      <td>0</td>\n      <td>0</td>\n      <td>0</td>\n      <td>0</td>\n      <td>1</td>\n      <td>0</td>\n    </tr>\n    <tr>\n      <th>...</th>\n      <td>...</td>\n      <td>...</td>\n      <td>...</td>\n      <td>...</td>\n      <td>...</td>\n      <td>...</td>\n      <td>...</td>\n      <td>...</td>\n      <td>...</td>\n      <td>...</td>\n      <td>...</td>\n      <td>...</td>\n      <td>...</td>\n      <td>...</td>\n      <td>...</td>\n      <td>...</td>\n      <td>...</td>\n      <td>...</td>\n      <td>...</td>\n      <td>...</td>\n    </tr>\n    <tr>\n      <th>22171</th>\n      <td>1</td>\n      <td>0</td>\n      <td>0</td>\n      <td>0</td>\n      <td>0</td>\n      <td>0</td>\n      <td>0</td>\n      <td>0</td>\n      <td>0</td>\n      <td>0</td>\n      <td>0</td>\n      <td>0</td>\n      <td>0</td>\n      <td>1</td>\n      <td>0</td>\n      <td>0</td>\n      <td>1</td>\n      <td>0</td>\n      <td>0</td>\n      <td>0</td>\n    </tr>\n    <tr>\n      <th>22172</th>\n      <td>1</td>\n      <td>0</td>\n      <td>0</td>\n      <td>0</td>\n      <td>0</td>\n      <td>0</td>\n      <td>0</td>\n      <td>0</td>\n      <td>0</td>\n      <td>0</td>\n      <td>0</td>\n      <td>0</td>\n      <td>0</td>\n      <td>1</td>\n      <td>0</td>\n      <td>0</td>\n      <td>1</td>\n      <td>0</td>\n      <td>0</td>\n      <td>0</td>\n    </tr>\n    <tr>\n      <th>22173</th>\n      <td>1</td>\n      <td>0</td>\n      <td>0</td>\n      <td>0</td>\n      <td>0</td>\n      <td>0</td>\n      <td>0</td>\n      <td>0</td>\n      <td>0</td>\n      <td>0</td>\n      <td>0</td>\n      <td>0</td>\n      <td>0</td>\n      <td>1</td>\n      <td>0</td>\n      <td>0</td>\n      <td>1</td>\n      <td>0</td>\n      <td>0</td>\n      <td>0</td>\n    </tr>\n    <tr>\n      <th>22174</th>\n      <td>1</td>\n      <td>0</td>\n      <td>0</td>\n      <td>0</td>\n      <td>1</td>\n      <td>0</td>\n      <td>0</td>\n      <td>0</td>\n      <td>1</td>\n      <td>0</td>\n      <td>0</td>\n      <td>0</td>\n      <td>0</td>\n      <td>0</td>\n      <td>0</td>\n      <td>0</td>\n      <td>0</td>\n      <td>0</td>\n      <td>1</td>\n      <td>0</td>\n    </tr>\n    <tr>\n      <th>22175</th>\n      <td>1</td>\n      <td>0</td>\n      <td>1</td>\n      <td>0</td>\n      <td>0</td>\n      <td>0</td>\n      <td>0</td>\n      <td>0</td>\n      <td>1</td>\n      <td>0</td>\n      <td>0</td>\n      <td>0</td>\n      <td>0</td>\n      <td>0</td>\n      <td>0</td>\n      <td>0</td>\n      <td>0</td>\n      <td>0</td>\n      <td>0</td>\n      <td>1</td>\n    </tr>\n  </tbody>\n</table>\n<p>22176 rows \u00d7 20 columns</p>\n</div>",
                        "text/plain": "       SEVERITYCODE  Blowing Sand/Dirt  Clear  Fog/Smog/Smoke  Overcast  \\\n0                 2                  0      1               0         0   \n1                 2                  0      0               0         0   \n2                 2                  0      1               0         0   \n3                 2                  0      1               0         0   \n4                 2                  0      1               0         0   \n...             ...                ...    ...             ...       ...   \n22171             1                  0      0               0         0   \n22172             1                  0      0               0         0   \n22173             1                  0      0               0         0   \n22174             1                  0      0               0         1   \n22175             1                  0      1               0         0   \n\n       Severe Crosswind  Sleet/Hail/Freezing Rain  Snowing  Dry  Ice  Oil  \\\n0                     0                         0        0    1    0    0   \n1                     0                         0        0    0    0    0   \n2                     0                         0        0    1    0    0   \n3                     0                         0        0    1    0    0   \n4                     0                         0        0    1    0    0   \n...                 ...                       ...      ...  ...  ...  ...   \n22171                 0                         0        0    0    0    0   \n22172                 0                         0        0    0    0    0   \n22173                 0                         0        0    0    0    0   \n22174                 0                         0        0    1    0    0   \n22175                 0                         0        0    1    0    0   \n\n       Sand/Mud/Dirt  Snow/Slush  Wet  Dark - No Street Lights  \\\n0                  0           0    0                        0   \n1                  0           0    1                        0   \n2                  0           0    0                        0   \n3                  0           0    0                        0   \n4                  0           0    0                        0   \n...              ...         ...  ...                      ...   \n22171              0           0    1                        0   \n22172              0           0    1                        0   \n22173              0           0    1                        0   \n22174              0           0    0                        0   \n22175              0           0    0                        0   \n\n       Dark - Street Lights Off  Dark - Street Lights On  Dawn  Daylight  Dusk  \n0                             0                        0     0         1     0  \n1                             0                        1     0         0     0  \n2                             0                        0     0         1     0  \n3                             0                        0     0         1     0  \n4                             0                        0     0         1     0  \n...                         ...                      ...   ...       ...   ...  \n22171                         0                        1     0         0     0  \n22172                         0                        1     0         0     0  \n22173                         0                        1     0         0     0  \n22174                         0                        0     0         1     0  \n22175                         0                        0     0         0     1  \n\n[22176 rows x 20 columns]"
                    },
                    "execution_count": 32,
                    "metadata": {},
                    "output_type": "execute_result"
                }
            ],
            "source": "df23.reset_index(drop = True)"
        },
        {
            "cell_type": "code",
            "execution_count": 33,
            "metadata": {},
            "outputs": [
                {
                    "data": {
                        "text/plain": "SEVERITYCODE                int64\nBlowing Sand/Dirt           uint8\nClear                       uint8\nFog/Smog/Smoke              uint8\nOvercast                    uint8\nSevere Crosswind            uint8\nSleet/Hail/Freezing Rain    uint8\nSnowing                     uint8\nDry                         uint8\nIce                         uint8\nOil                         uint8\nSand/Mud/Dirt               uint8\nSnow/Slush                  uint8\nWet                         uint8\nDark - No Street Lights     uint8\nDark - Street Lights Off    uint8\nDark - Street Lights On     uint8\nDawn                        uint8\nDaylight                    uint8\nDusk                        uint8\ndtype: object"
                    },
                    "execution_count": 33,
                    "metadata": {},
                    "output_type": "execute_result"
                }
            ],
            "source": "df23.dtypes"
        },
        {
            "cell_type": "code",
            "execution_count": 34,
            "metadata": {},
            "outputs": [
                {
                    "data": {
                        "text/html": "<div>\n<style scoped>\n    .dataframe tbody tr th:only-of-type {\n        vertical-align: middle;\n    }\n\n    .dataframe tbody tr th {\n        vertical-align: top;\n    }\n\n    .dataframe thead th {\n        text-align: right;\n    }\n</style>\n<table border=\"1\" class=\"dataframe\">\n  <thead>\n    <tr style=\"text-align: right;\">\n      <th></th>\n      <th>SEVERITYCODE</th>\n      <th>Blowing Sand/Dirt</th>\n      <th>Clear</th>\n      <th>Fog/Smog/Smoke</th>\n      <th>Overcast</th>\n      <th>Severe Crosswind</th>\n      <th>Sleet/Hail/Freezing Rain</th>\n      <th>Snowing</th>\n      <th>Dry</th>\n      <th>Ice</th>\n      <th>Oil</th>\n      <th>Sand/Mud/Dirt</th>\n      <th>Snow/Slush</th>\n      <th>Wet</th>\n      <th>Dark - No Street Lights</th>\n      <th>Dark - Street Lights Off</th>\n      <th>Dark - Street Lights On</th>\n      <th>Dawn</th>\n      <th>Daylight</th>\n      <th>Dusk</th>\n    </tr>\n  </thead>\n  <tbody>\n    <tr>\n      <th>SEVERITYCODE</th>\n      <td>1.000000</td>\n      <td>0.003003</td>\n      <td>0.040616</td>\n      <td>-0.005230</td>\n      <td>-0.025475</td>\n      <td>0.005484</td>\n      <td>-0.009407</td>\n      <td>-0.027151</td>\n      <td>0.059062</td>\n      <td>-0.049309</td>\n      <td>-0.004752</td>\n      <td>-0.008448</td>\n      <td>-0.029643</td>\n      <td>-0.038842</td>\n      <td>-0.044216</td>\n      <td>-0.023245</td>\n      <td>-0.099690</td>\n      <td>-0.006541</td>\n      <td>0.107892</td>\n      <td>0.021638</td>\n    </tr>\n    <tr>\n      <th>Blowing Sand/Dirt</th>\n      <td>0.003003</td>\n      <td>1.000000</td>\n      <td>-0.018013</td>\n      <td>-0.001041</td>\n      <td>-0.006643</td>\n      <td>-0.000247</td>\n      <td>-0.000505</td>\n      <td>-0.001256</td>\n      <td>-0.007846</td>\n      <td>0.023452</td>\n      <td>-0.000571</td>\n      <td>-0.000562</td>\n      <td>0.032705</td>\n      <td>-0.003968</td>\n      <td>-0.001882</td>\n      <td>-0.001531</td>\n      <td>0.000002</td>\n      <td>-0.002222</td>\n      <td>0.002303</td>\n      <td>-0.002612</td>\n    </tr>\n    <tr>\n      <th>Clear</th>\n      <td>0.040616</td>\n      <td>-0.018013</td>\n      <td>1.000000</td>\n      <td>-0.083129</td>\n      <td>-0.530587</td>\n      <td>-0.019733</td>\n      <td>-0.040297</td>\n      <td>-0.100307</td>\n      <td>0.726676</td>\n      <td>0.012641</td>\n      <td>-0.019030</td>\n      <td>-0.003163</td>\n      <td>-0.085888</td>\n      <td>-0.721957</td>\n      <td>-0.005466</td>\n      <td>-0.029549</td>\n      <td>-0.146986</td>\n      <td>-0.037510</td>\n      <td>0.161781</td>\n      <td>0.002137</td>\n    </tr>\n    <tr>\n      <th>Fog/Smog/Smoke</th>\n      <td>-0.005230</td>\n      <td>-0.001041</td>\n      <td>-0.083129</td>\n      <td>1.000000</td>\n      <td>-0.030656</td>\n      <td>-0.001140</td>\n      <td>-0.002328</td>\n      <td>-0.005795</td>\n      <td>-0.032645</td>\n      <td>0.046634</td>\n      <td>-0.002635</td>\n      <td>0.014906</td>\n      <td>0.001247</td>\n      <td>0.020534</td>\n      <td>0.012506</td>\n      <td>0.031824</td>\n      <td>0.038179</td>\n      <td>0.007810</td>\n      <td>-0.046446</td>\n      <td>-0.008179</td>\n    </tr>\n    <tr>\n      <th>Overcast</th>\n      <td>-0.025475</td>\n      <td>-0.006643</td>\n      <td>-0.530587</td>\n      <td>-0.030656</td>\n      <td>1.000000</td>\n      <td>-0.007277</td>\n      <td>-0.014860</td>\n      <td>-0.036990</td>\n      <td>-0.103280</td>\n      <td>0.017389</td>\n      <td>-0.010393</td>\n      <td>0.003024</td>\n      <td>-0.007563</td>\n      <td>0.104866</td>\n      <td>-0.002104</td>\n      <td>-0.013668</td>\n      <td>0.004884</td>\n      <td>0.030535</td>\n      <td>-0.010599</td>\n      <td>0.000337</td>\n    </tr>\n    <tr>\n      <th>Severe Crosswind</th>\n      <td>0.005484</td>\n      <td>-0.000247</td>\n      <td>-0.019733</td>\n      <td>-0.001140</td>\n      <td>-0.007277</td>\n      <td>1.000000</td>\n      <td>-0.000553</td>\n      <td>-0.001376</td>\n      <td>-0.016639</td>\n      <td>0.021078</td>\n      <td>-0.000625</td>\n      <td>-0.000616</td>\n      <td>-0.001463</td>\n      <td>0.012062</td>\n      <td>-0.002062</td>\n      <td>0.025504</td>\n      <td>-0.002237</td>\n      <td>-0.002434</td>\n      <td>-0.000771</td>\n      <td>-0.002861</td>\n    </tr>\n    <tr>\n      <th>Sleet/Hail/Freezing Rain</th>\n      <td>-0.009407</td>\n      <td>-0.000505</td>\n      <td>-0.040297</td>\n      <td>-0.002328</td>\n      <td>-0.014860</td>\n      <td>-0.000553</td>\n      <td>1.000000</td>\n      <td>-0.002809</td>\n      <td>-0.042896</td>\n      <td>0.041160</td>\n      <td>-0.001277</td>\n      <td>-0.001257</td>\n      <td>0.134086</td>\n      <td>0.005483</td>\n      <td>0.006679</td>\n      <td>-0.003424</td>\n      <td>0.002747</td>\n      <td>0.013593</td>\n      <td>-0.008301</td>\n      <td>0.002118</td>\n    </tr>\n    <tr>\n      <th>Snowing</th>\n      <td>-0.027151</td>\n      <td>-0.001256</td>\n      <td>-0.100307</td>\n      <td>-0.005795</td>\n      <td>-0.036990</td>\n      <td>-0.001376</td>\n      <td>-0.002809</td>\n      <td>1.000000</td>\n      <td>-0.111511</td>\n      <td>0.104100</td>\n      <td>-0.003179</td>\n      <td>0.011405</td>\n      <td>0.614162</td>\n      <td>-0.028830</td>\n      <td>0.011520</td>\n      <td>0.002243</td>\n      <td>0.029274</td>\n      <td>0.025135</td>\n      <td>-0.037622</td>\n      <td>-0.004892</td>\n    </tr>\n    <tr>\n      <th>Dry</th>\n      <td>0.059062</td>\n      <td>-0.007846</td>\n      <td>0.726676</td>\n      <td>-0.032645</td>\n      <td>-0.103280</td>\n      <td>-0.016639</td>\n      <td>-0.042896</td>\n      <td>-0.111511</td>\n      <td>1.000000</td>\n      <td>-0.164123</td>\n      <td>-0.051726</td>\n      <td>-0.050910</td>\n      <td>-0.121005</td>\n      <td>-0.941240</td>\n      <td>-0.016627</td>\n      <td>-0.031890</td>\n      <td>-0.187247</td>\n      <td>-0.032910</td>\n      <td>0.199330</td>\n      <td>0.013045</td>\n    </tr>\n    <tr>\n      <th>Ice</th>\n      <td>-0.049309</td>\n      <td>0.023452</td>\n      <td>0.012641</td>\n      <td>0.046634</td>\n      <td>0.017389</td>\n      <td>0.021078</td>\n      <td>0.041160</td>\n      <td>0.104100</td>\n      <td>-0.164123</td>\n      <td>1.000000</td>\n      <td>-0.004585</td>\n      <td>-0.004513</td>\n      <td>-0.010726</td>\n      <td>-0.083435</td>\n      <td>0.006398</td>\n      <td>0.002747</td>\n      <td>0.019991</td>\n      <td>0.039792</td>\n      <td>-0.027675</td>\n      <td>-0.016482</td>\n    </tr>\n    <tr>\n      <th>Oil</th>\n      <td>-0.004752</td>\n      <td>-0.000571</td>\n      <td>-0.019030</td>\n      <td>-0.002635</td>\n      <td>-0.010393</td>\n      <td>-0.000625</td>\n      <td>-0.001277</td>\n      <td>-0.003179</td>\n      <td>-0.051726</td>\n      <td>-0.004585</td>\n      <td>1.000000</td>\n      <td>-0.001422</td>\n      <td>-0.003381</td>\n      <td>-0.026296</td>\n      <td>0.024115</td>\n      <td>-0.003875</td>\n      <td>-0.023760</td>\n      <td>0.018992</td>\n      <td>0.012490</td>\n      <td>0.000427</td>\n    </tr>\n    <tr>\n      <th>Sand/Mud/Dirt</th>\n      <td>-0.008448</td>\n      <td>-0.000562</td>\n      <td>-0.003163</td>\n      <td>0.014906</td>\n      <td>0.003024</td>\n      <td>-0.000616</td>\n      <td>-0.001257</td>\n      <td>0.011405</td>\n      <td>-0.050910</td>\n      <td>-0.004513</td>\n      <td>-0.001422</td>\n      <td>1.000000</td>\n      <td>-0.003327</td>\n      <td>-0.025881</td>\n      <td>0.014871</td>\n      <td>-0.003813</td>\n      <td>-0.015763</td>\n      <td>0.019474</td>\n      <td>0.009121</td>\n      <td>-0.006507</td>\n    </tr>\n    <tr>\n      <th>Snow/Slush</th>\n      <td>-0.029643</td>\n      <td>0.032705</td>\n      <td>-0.085888</td>\n      <td>0.001247</td>\n      <td>-0.007563</td>\n      <td>-0.001463</td>\n      <td>0.134086</td>\n      <td>0.614162</td>\n      <td>-0.121005</td>\n      <td>-0.010726</td>\n      <td>-0.003381</td>\n      <td>-0.003327</td>\n      <td>1.000000</td>\n      <td>-0.061515</td>\n      <td>0.001279</td>\n      <td>-0.009064</td>\n      <td>0.030684</td>\n      <td>0.008024</td>\n      <td>-0.029749</td>\n      <td>-0.003355</td>\n    </tr>\n    <tr>\n      <th>Wet</th>\n      <td>-0.038842</td>\n      <td>-0.003968</td>\n      <td>-0.721957</td>\n      <td>0.020534</td>\n      <td>0.104866</td>\n      <td>0.012062</td>\n      <td>0.005483</td>\n      <td>-0.028830</td>\n      <td>-0.941240</td>\n      <td>-0.083435</td>\n      <td>-0.026296</td>\n      <td>-0.025881</td>\n      <td>-0.061515</td>\n      <td>1.000000</td>\n      <td>0.011710</td>\n      <td>0.034598</td>\n      <td>0.181724</td>\n      <td>0.017490</td>\n      <td>-0.190365</td>\n      <td>-0.008387</td>\n    </tr>\n    <tr>\n      <th>Dark - No Street Lights</th>\n      <td>-0.044216</td>\n      <td>-0.001882</td>\n      <td>-0.005466</td>\n      <td>0.012506</td>\n      <td>-0.002104</td>\n      <td>-0.002062</td>\n      <td>0.006679</td>\n      <td>0.011520</td>\n      <td>-0.016627</td>\n      <td>0.006398</td>\n      <td>0.024115</td>\n      <td>0.014871</td>\n      <td>0.001279</td>\n      <td>0.011710</td>\n      <td>1.000000</td>\n      <td>-0.012775</td>\n      <td>-0.102326</td>\n      <td>-0.018544</td>\n      <td>-0.131351</td>\n      <td>-0.021798</td>\n    </tr>\n    <tr>\n      <th>Dark - Street Lights Off</th>\n      <td>-0.023245</td>\n      <td>-0.001531</td>\n      <td>-0.029549</td>\n      <td>0.031824</td>\n      <td>-0.013668</td>\n      <td>0.025504</td>\n      <td>-0.003424</td>\n      <td>0.002243</td>\n      <td>-0.031890</td>\n      <td>0.002747</td>\n      <td>-0.003875</td>\n      <td>-0.003813</td>\n      <td>-0.009064</td>\n      <td>0.034598</td>\n      <td>-0.012775</td>\n      <td>1.000000</td>\n      <td>-0.083208</td>\n      <td>-0.015079</td>\n      <td>-0.106810</td>\n      <td>-0.017725</td>\n    </tr>\n    <tr>\n      <th>Dark - Street Lights On</th>\n      <td>-0.099690</td>\n      <td>0.000002</td>\n      <td>-0.146986</td>\n      <td>0.038179</td>\n      <td>0.004884</td>\n      <td>-0.002237</td>\n      <td>0.002747</td>\n      <td>0.029274</td>\n      <td>-0.187247</td>\n      <td>0.019991</td>\n      <td>-0.023760</td>\n      <td>-0.015763</td>\n      <td>0.030684</td>\n      <td>0.181724</td>\n      <td>-0.102326</td>\n      <td>-0.083208</td>\n      <td>1.000000</td>\n      <td>-0.120783</td>\n      <td>-0.855540</td>\n      <td>-0.141976</td>\n    </tr>\n    <tr>\n      <th>Dawn</th>\n      <td>-0.006541</td>\n      <td>-0.002222</td>\n      <td>-0.037510</td>\n      <td>0.007810</td>\n      <td>0.030535</td>\n      <td>-0.002434</td>\n      <td>0.013593</td>\n      <td>0.025135</td>\n      <td>-0.032910</td>\n      <td>0.039792</td>\n      <td>0.018992</td>\n      <td>0.019474</td>\n      <td>0.008024</td>\n      <td>0.017490</td>\n      <td>-0.018544</td>\n      <td>-0.015079</td>\n      <td>-0.120783</td>\n      <td>1.000000</td>\n      <td>-0.155042</td>\n      <td>-0.025729</td>\n    </tr>\n    <tr>\n      <th>Daylight</th>\n      <td>0.107892</td>\n      <td>0.002303</td>\n      <td>0.161781</td>\n      <td>-0.046446</td>\n      <td>-0.010599</td>\n      <td>-0.000771</td>\n      <td>-0.008301</td>\n      <td>-0.037622</td>\n      <td>0.199330</td>\n      <td>-0.027675</td>\n      <td>0.012490</td>\n      <td>0.009121</td>\n      <td>-0.029749</td>\n      <td>-0.190365</td>\n      <td>-0.131351</td>\n      <td>-0.106810</td>\n      <td>-0.855540</td>\n      <td>-0.155042</td>\n      <td>1.000000</td>\n      <td>-0.182248</td>\n    </tr>\n    <tr>\n      <th>Dusk</th>\n      <td>0.021638</td>\n      <td>-0.002612</td>\n      <td>0.002137</td>\n      <td>-0.008179</td>\n      <td>0.000337</td>\n      <td>-0.002861</td>\n      <td>0.002118</td>\n      <td>-0.004892</td>\n      <td>0.013045</td>\n      <td>-0.016482</td>\n      <td>0.000427</td>\n      <td>-0.006507</td>\n      <td>-0.003355</td>\n      <td>-0.008387</td>\n      <td>-0.021798</td>\n      <td>-0.017725</td>\n      <td>-0.141976</td>\n      <td>-0.025729</td>\n      <td>-0.182248</td>\n      <td>1.000000</td>\n    </tr>\n  </tbody>\n</table>\n</div>",
                        "text/plain": "                          SEVERITYCODE  Blowing Sand/Dirt     Clear  \\\nSEVERITYCODE                  1.000000           0.003003  0.040616   \nBlowing Sand/Dirt             0.003003           1.000000 -0.018013   \nClear                         0.040616          -0.018013  1.000000   \nFog/Smog/Smoke               -0.005230          -0.001041 -0.083129   \nOvercast                     -0.025475          -0.006643 -0.530587   \nSevere Crosswind              0.005484          -0.000247 -0.019733   \nSleet/Hail/Freezing Rain     -0.009407          -0.000505 -0.040297   \nSnowing                      -0.027151          -0.001256 -0.100307   \nDry                           0.059062          -0.007846  0.726676   \nIce                          -0.049309           0.023452  0.012641   \nOil                          -0.004752          -0.000571 -0.019030   \nSand/Mud/Dirt                -0.008448          -0.000562 -0.003163   \nSnow/Slush                   -0.029643           0.032705 -0.085888   \nWet                          -0.038842          -0.003968 -0.721957   \nDark - No Street Lights      -0.044216          -0.001882 -0.005466   \nDark - Street Lights Off     -0.023245          -0.001531 -0.029549   \nDark - Street Lights On      -0.099690           0.000002 -0.146986   \nDawn                         -0.006541          -0.002222 -0.037510   \nDaylight                      0.107892           0.002303  0.161781   \nDusk                          0.021638          -0.002612  0.002137   \n\n                          Fog/Smog/Smoke  Overcast  Severe Crosswind  \\\nSEVERITYCODE                   -0.005230 -0.025475          0.005484   \nBlowing Sand/Dirt              -0.001041 -0.006643         -0.000247   \nClear                          -0.083129 -0.530587         -0.019733   \nFog/Smog/Smoke                  1.000000 -0.030656         -0.001140   \nOvercast                       -0.030656  1.000000         -0.007277   \nSevere Crosswind               -0.001140 -0.007277          1.000000   \nSleet/Hail/Freezing Rain       -0.002328 -0.014860         -0.000553   \nSnowing                        -0.005795 -0.036990         -0.001376   \nDry                            -0.032645 -0.103280         -0.016639   \nIce                             0.046634  0.017389          0.021078   \nOil                            -0.002635 -0.010393         -0.000625   \nSand/Mud/Dirt                   0.014906  0.003024         -0.000616   \nSnow/Slush                      0.001247 -0.007563         -0.001463   \nWet                             0.020534  0.104866          0.012062   \nDark - No Street Lights         0.012506 -0.002104         -0.002062   \nDark - Street Lights Off        0.031824 -0.013668          0.025504   \nDark - Street Lights On         0.038179  0.004884         -0.002237   \nDawn                            0.007810  0.030535         -0.002434   \nDaylight                       -0.046446 -0.010599         -0.000771   \nDusk                           -0.008179  0.000337         -0.002861   \n\n                          Sleet/Hail/Freezing Rain   Snowing       Dry  \\\nSEVERITYCODE                             -0.009407 -0.027151  0.059062   \nBlowing Sand/Dirt                        -0.000505 -0.001256 -0.007846   \nClear                                    -0.040297 -0.100307  0.726676   \nFog/Smog/Smoke                           -0.002328 -0.005795 -0.032645   \nOvercast                                 -0.014860 -0.036990 -0.103280   \nSevere Crosswind                         -0.000553 -0.001376 -0.016639   \nSleet/Hail/Freezing Rain                  1.000000 -0.002809 -0.042896   \nSnowing                                  -0.002809  1.000000 -0.111511   \nDry                                      -0.042896 -0.111511  1.000000   \nIce                                       0.041160  0.104100 -0.164123   \nOil                                      -0.001277 -0.003179 -0.051726   \nSand/Mud/Dirt                            -0.001257  0.011405 -0.050910   \nSnow/Slush                                0.134086  0.614162 -0.121005   \nWet                                       0.005483 -0.028830 -0.941240   \nDark - No Street Lights                   0.006679  0.011520 -0.016627   \nDark - Street Lights Off                 -0.003424  0.002243 -0.031890   \nDark - Street Lights On                   0.002747  0.029274 -0.187247   \nDawn                                      0.013593  0.025135 -0.032910   \nDaylight                                 -0.008301 -0.037622  0.199330   \nDusk                                      0.002118 -0.004892  0.013045   \n\n                               Ice       Oil  Sand/Mud/Dirt  Snow/Slush  \\\nSEVERITYCODE             -0.049309 -0.004752      -0.008448   -0.029643   \nBlowing Sand/Dirt         0.023452 -0.000571      -0.000562    0.032705   \nClear                     0.012641 -0.019030      -0.003163   -0.085888   \nFog/Smog/Smoke            0.046634 -0.002635       0.014906    0.001247   \nOvercast                  0.017389 -0.010393       0.003024   -0.007563   \nSevere Crosswind          0.021078 -0.000625      -0.000616   -0.001463   \nSleet/Hail/Freezing Rain  0.041160 -0.001277      -0.001257    0.134086   \nSnowing                   0.104100 -0.003179       0.011405    0.614162   \nDry                      -0.164123 -0.051726      -0.050910   -0.121005   \nIce                       1.000000 -0.004585      -0.004513   -0.010726   \nOil                      -0.004585  1.000000      -0.001422   -0.003381   \nSand/Mud/Dirt            -0.004513 -0.001422       1.000000   -0.003327   \nSnow/Slush               -0.010726 -0.003381      -0.003327    1.000000   \nWet                      -0.083435 -0.026296      -0.025881   -0.061515   \nDark - No Street Lights   0.006398  0.024115       0.014871    0.001279   \nDark - Street Lights Off  0.002747 -0.003875      -0.003813   -0.009064   \nDark - Street Lights On   0.019991 -0.023760      -0.015763    0.030684   \nDawn                      0.039792  0.018992       0.019474    0.008024   \nDaylight                 -0.027675  0.012490       0.009121   -0.029749   \nDusk                     -0.016482  0.000427      -0.006507   -0.003355   \n\n                               Wet  Dark - No Street Lights  \\\nSEVERITYCODE             -0.038842                -0.044216   \nBlowing Sand/Dirt        -0.003968                -0.001882   \nClear                    -0.721957                -0.005466   \nFog/Smog/Smoke            0.020534                 0.012506   \nOvercast                  0.104866                -0.002104   \nSevere Crosswind          0.012062                -0.002062   \nSleet/Hail/Freezing Rain  0.005483                 0.006679   \nSnowing                  -0.028830                 0.011520   \nDry                      -0.941240                -0.016627   \nIce                      -0.083435                 0.006398   \nOil                      -0.026296                 0.024115   \nSand/Mud/Dirt            -0.025881                 0.014871   \nSnow/Slush               -0.061515                 0.001279   \nWet                       1.000000                 0.011710   \nDark - No Street Lights   0.011710                 1.000000   \nDark - Street Lights Off  0.034598                -0.012775   \nDark - Street Lights On   0.181724                -0.102326   \nDawn                      0.017490                -0.018544   \nDaylight                 -0.190365                -0.131351   \nDusk                     -0.008387                -0.021798   \n\n                          Dark - Street Lights Off  Dark - Street Lights On  \\\nSEVERITYCODE                             -0.023245                -0.099690   \nBlowing Sand/Dirt                        -0.001531                 0.000002   \nClear                                    -0.029549                -0.146986   \nFog/Smog/Smoke                            0.031824                 0.038179   \nOvercast                                 -0.013668                 0.004884   \nSevere Crosswind                          0.025504                -0.002237   \nSleet/Hail/Freezing Rain                 -0.003424                 0.002747   \nSnowing                                   0.002243                 0.029274   \nDry                                      -0.031890                -0.187247   \nIce                                       0.002747                 0.019991   \nOil                                      -0.003875                -0.023760   \nSand/Mud/Dirt                            -0.003813                -0.015763   \nSnow/Slush                               -0.009064                 0.030684   \nWet                                       0.034598                 0.181724   \nDark - No Street Lights                  -0.012775                -0.102326   \nDark - Street Lights Off                  1.000000                -0.083208   \nDark - Street Lights On                  -0.083208                 1.000000   \nDawn                                     -0.015079                -0.120783   \nDaylight                                 -0.106810                -0.855540   \nDusk                                     -0.017725                -0.141976   \n\n                              Dawn  Daylight      Dusk  \nSEVERITYCODE             -0.006541  0.107892  0.021638  \nBlowing Sand/Dirt        -0.002222  0.002303 -0.002612  \nClear                    -0.037510  0.161781  0.002137  \nFog/Smog/Smoke            0.007810 -0.046446 -0.008179  \nOvercast                  0.030535 -0.010599  0.000337  \nSevere Crosswind         -0.002434 -0.000771 -0.002861  \nSleet/Hail/Freezing Rain  0.013593 -0.008301  0.002118  \nSnowing                   0.025135 -0.037622 -0.004892  \nDry                      -0.032910  0.199330  0.013045  \nIce                       0.039792 -0.027675 -0.016482  \nOil                       0.018992  0.012490  0.000427  \nSand/Mud/Dirt             0.019474  0.009121 -0.006507  \nSnow/Slush                0.008024 -0.029749 -0.003355  \nWet                       0.017490 -0.190365 -0.008387  \nDark - No Street Lights  -0.018544 -0.131351 -0.021798  \nDark - Street Lights Off -0.015079 -0.106810 -0.017725  \nDark - Street Lights On  -0.120783 -0.855540 -0.141976  \nDawn                      1.000000 -0.155042 -0.025729  \nDaylight                 -0.155042  1.000000 -0.182248  \nDusk                     -0.025729 -0.182248  1.000000  "
                    },
                    "execution_count": 34,
                    "metadata": {},
                    "output_type": "execute_result"
                }
            ],
            "source": "df23.corr()"
        },
        {
            "cell_type": "code",
            "execution_count": 35,
            "metadata": {},
            "outputs": [
                {
                    "data": {
                        "text/html": "<div>\n<style scoped>\n    .dataframe tbody tr th:only-of-type {\n        vertical-align: middle;\n    }\n\n    .dataframe tbody tr th {\n        vertical-align: top;\n    }\n\n    .dataframe thead th {\n        text-align: right;\n    }\n</style>\n<table border=\"1\" class=\"dataframe\">\n  <thead>\n    <tr style=\"text-align: right;\">\n      <th></th>\n      <th>Snow/Slush</th>\n      <th>SEVERITYCODE</th>\n    </tr>\n  </thead>\n  <tbody>\n    <tr>\n      <th>Snow/Slush</th>\n      <td>1.000000</td>\n      <td>-0.029643</td>\n    </tr>\n    <tr>\n      <th>SEVERITYCODE</th>\n      <td>-0.029643</td>\n      <td>1.000000</td>\n    </tr>\n  </tbody>\n</table>\n</div>",
                        "text/plain": "              Snow/Slush  SEVERITYCODE\nSnow/Slush      1.000000     -0.029643\nSEVERITYCODE   -0.029643      1.000000"
                    },
                    "execution_count": 35,
                    "metadata": {},
                    "output_type": "execute_result"
                }
            ],
            "source": "df23[[\"Snow/Slush\",\"SEVERITYCODE\"]].corr()"
        },
        {
            "cell_type": "code",
            "execution_count": 36,
            "metadata": {},
            "outputs": [],
            "source": "%%capture\n! pip install seaborn"
        },
        {
            "cell_type": "code",
            "execution_count": 37,
            "metadata": {},
            "outputs": [],
            "source": "import matplotlib.pyplot as plt\nimport seaborn as sns\n%matplotlib inline"
        },
        {
            "cell_type": "code",
            "execution_count": 38,
            "metadata": {},
            "outputs": [
                {
                    "data": {
                        "text/plain": "(22176, 19)"
                    },
                    "execution_count": 38,
                    "metadata": {},
                    "output_type": "execute_result"
                }
            ],
            "source": "Feature = df23[['Blowing Sand/Dirt', 'Clear', 'Fog/Smog/Smoke', 'Overcast', 'Severe Crosswind', 'Sleet/Hail/Freezing Rain', 'Snowing', 'Dry', 'Ice', 'Oil', 'Sand/Mud/Dirt', 'Snow/Slush', 'Wet', 'Dark - No Street Lights', 'Dark - Street Lights Off', 'Dark - Street Lights On', 'Dawn', 'Daylight', 'Dusk']]\n\nFeature.shape"
        },
        {
            "cell_type": "code",
            "execution_count": 39,
            "metadata": {},
            "outputs": [
                {
                    "data": {
                        "text/html": "<div>\n<style scoped>\n    .dataframe tbody tr th:only-of-type {\n        vertical-align: middle;\n    }\n\n    .dataframe tbody tr th {\n        vertical-align: top;\n    }\n\n    .dataframe thead th {\n        text-align: right;\n    }\n</style>\n<table border=\"1\" class=\"dataframe\">\n  <thead>\n    <tr style=\"text-align: right;\">\n      <th></th>\n      <th>Blowing Sand/Dirt</th>\n      <th>Clear</th>\n      <th>Fog/Smog/Smoke</th>\n      <th>Overcast</th>\n      <th>Severe Crosswind</th>\n      <th>Sleet/Hail/Freezing Rain</th>\n      <th>Snowing</th>\n      <th>Dry</th>\n      <th>Ice</th>\n      <th>Oil</th>\n      <th>Sand/Mud/Dirt</th>\n      <th>Snow/Slush</th>\n      <th>Wet</th>\n      <th>Dark - No Street Lights</th>\n      <th>Dark - Street Lights Off</th>\n      <th>Dark - Street Lights On</th>\n      <th>Dawn</th>\n      <th>Daylight</th>\n      <th>Dusk</th>\n    </tr>\n  </thead>\n  <tbody>\n    <tr>\n      <th>8</th>\n      <td>0</td>\n      <td>1</td>\n      <td>0</td>\n      <td>0</td>\n      <td>0</td>\n      <td>0</td>\n      <td>0</td>\n      <td>1</td>\n      <td>0</td>\n      <td>0</td>\n      <td>0</td>\n      <td>0</td>\n      <td>0</td>\n      <td>0</td>\n      <td>0</td>\n      <td>0</td>\n      <td>0</td>\n      <td>1</td>\n      <td>0</td>\n    </tr>\n    <tr>\n      <th>44</th>\n      <td>0</td>\n      <td>0</td>\n      <td>0</td>\n      <td>0</td>\n      <td>0</td>\n      <td>0</td>\n      <td>0</td>\n      <td>0</td>\n      <td>0</td>\n      <td>0</td>\n      <td>0</td>\n      <td>0</td>\n      <td>1</td>\n      <td>0</td>\n      <td>0</td>\n      <td>1</td>\n      <td>0</td>\n      <td>0</td>\n      <td>0</td>\n    </tr>\n    <tr>\n      <th>72</th>\n      <td>0</td>\n      <td>1</td>\n      <td>0</td>\n      <td>0</td>\n      <td>0</td>\n      <td>0</td>\n      <td>0</td>\n      <td>1</td>\n      <td>0</td>\n      <td>0</td>\n      <td>0</td>\n      <td>0</td>\n      <td>0</td>\n      <td>0</td>\n      <td>0</td>\n      <td>0</td>\n      <td>0</td>\n      <td>1</td>\n      <td>0</td>\n    </tr>\n    <tr>\n      <th>85</th>\n      <td>0</td>\n      <td>1</td>\n      <td>0</td>\n      <td>0</td>\n      <td>0</td>\n      <td>0</td>\n      <td>0</td>\n      <td>1</td>\n      <td>0</td>\n      <td>0</td>\n      <td>0</td>\n      <td>0</td>\n      <td>0</td>\n      <td>0</td>\n      <td>0</td>\n      <td>0</td>\n      <td>0</td>\n      <td>1</td>\n      <td>0</td>\n    </tr>\n    <tr>\n      <th>91</th>\n      <td>0</td>\n      <td>1</td>\n      <td>0</td>\n      <td>0</td>\n      <td>0</td>\n      <td>0</td>\n      <td>0</td>\n      <td>1</td>\n      <td>0</td>\n      <td>0</td>\n      <td>0</td>\n      <td>0</td>\n      <td>0</td>\n      <td>0</td>\n      <td>0</td>\n      <td>0</td>\n      <td>0</td>\n      <td>1</td>\n      <td>0</td>\n    </tr>\n  </tbody>\n</table>\n</div>",
                        "text/plain": "    Blowing Sand/Dirt  Clear  Fog/Smog/Smoke  Overcast  Severe Crosswind  \\\n8                   0      1               0         0                 0   \n44                  0      0               0         0                 0   \n72                  0      1               0         0                 0   \n85                  0      1               0         0                 0   \n91                  0      1               0         0                 0   \n\n    Sleet/Hail/Freezing Rain  Snowing  Dry  Ice  Oil  Sand/Mud/Dirt  \\\n8                          0        0    1    0    0              0   \n44                         0        0    0    0    0              0   \n72                         0        0    1    0    0              0   \n85                         0        0    1    0    0              0   \n91                         0        0    1    0    0              0   \n\n    Snow/Slush  Wet  Dark - No Street Lights  Dark - Street Lights Off  \\\n8            0    0                        0                         0   \n44           0    1                        0                         0   \n72           0    0                        0                         0   \n85           0    0                        0                         0   \n91           0    0                        0                         0   \n\n    Dark - Street Lights On  Dawn  Daylight  Dusk  \n8                         0     0         1     0  \n44                        1     0         0     0  \n72                        0     0         1     0  \n85                        0     0         1     0  \n91                        0     0         1     0  "
                    },
                    "execution_count": 39,
                    "metadata": {},
                    "output_type": "execute_result"
                }
            ],
            "source": "Feature.head()"
        },
        {
            "cell_type": "code",
            "execution_count": 40,
            "metadata": {},
            "outputs": [
                {
                    "data": {
                        "text/html": "<div>\n<style scoped>\n    .dataframe tbody tr th:only-of-type {\n        vertical-align: middle;\n    }\n\n    .dataframe tbody tr th {\n        vertical-align: top;\n    }\n\n    .dataframe thead th {\n        text-align: right;\n    }\n</style>\n<table border=\"1\" class=\"dataframe\">\n  <thead>\n    <tr style=\"text-align: right;\">\n      <th></th>\n      <th>Blowing Sand/Dirt</th>\n      <th>Clear</th>\n      <th>Fog/Smog/Smoke</th>\n      <th>Overcast</th>\n      <th>Severe Crosswind</th>\n      <th>Sleet/Hail/Freezing Rain</th>\n      <th>Snowing</th>\n      <th>Dry</th>\n      <th>Ice</th>\n      <th>Oil</th>\n      <th>Sand/Mud/Dirt</th>\n      <th>Snow/Slush</th>\n      <th>Wet</th>\n      <th>Dark - No Street Lights</th>\n      <th>Dark - Street Lights Off</th>\n      <th>Dark - Street Lights On</th>\n      <th>Dawn</th>\n      <th>Daylight</th>\n      <th>Dusk</th>\n    </tr>\n  </thead>\n  <tbody>\n    <tr>\n      <th>8</th>\n      <td>0</td>\n      <td>1</td>\n      <td>0</td>\n      <td>0</td>\n      <td>0</td>\n      <td>0</td>\n      <td>0</td>\n      <td>1</td>\n      <td>0</td>\n      <td>0</td>\n      <td>0</td>\n      <td>0</td>\n      <td>0</td>\n      <td>0</td>\n      <td>0</td>\n      <td>0</td>\n      <td>0</td>\n      <td>1</td>\n      <td>0</td>\n    </tr>\n    <tr>\n      <th>44</th>\n      <td>0</td>\n      <td>0</td>\n      <td>0</td>\n      <td>0</td>\n      <td>0</td>\n      <td>0</td>\n      <td>0</td>\n      <td>0</td>\n      <td>0</td>\n      <td>0</td>\n      <td>0</td>\n      <td>0</td>\n      <td>1</td>\n      <td>0</td>\n      <td>0</td>\n      <td>1</td>\n      <td>0</td>\n      <td>0</td>\n      <td>0</td>\n    </tr>\n    <tr>\n      <th>72</th>\n      <td>0</td>\n      <td>1</td>\n      <td>0</td>\n      <td>0</td>\n      <td>0</td>\n      <td>0</td>\n      <td>0</td>\n      <td>1</td>\n      <td>0</td>\n      <td>0</td>\n      <td>0</td>\n      <td>0</td>\n      <td>0</td>\n      <td>0</td>\n      <td>0</td>\n      <td>0</td>\n      <td>0</td>\n      <td>1</td>\n      <td>0</td>\n    </tr>\n    <tr>\n      <th>85</th>\n      <td>0</td>\n      <td>1</td>\n      <td>0</td>\n      <td>0</td>\n      <td>0</td>\n      <td>0</td>\n      <td>0</td>\n      <td>1</td>\n      <td>0</td>\n      <td>0</td>\n      <td>0</td>\n      <td>0</td>\n      <td>0</td>\n      <td>0</td>\n      <td>0</td>\n      <td>0</td>\n      <td>0</td>\n      <td>1</td>\n      <td>0</td>\n    </tr>\n    <tr>\n      <th>91</th>\n      <td>0</td>\n      <td>1</td>\n      <td>0</td>\n      <td>0</td>\n      <td>0</td>\n      <td>0</td>\n      <td>0</td>\n      <td>1</td>\n      <td>0</td>\n      <td>0</td>\n      <td>0</td>\n      <td>0</td>\n      <td>0</td>\n      <td>0</td>\n      <td>0</td>\n      <td>0</td>\n      <td>0</td>\n      <td>1</td>\n      <td>0</td>\n    </tr>\n  </tbody>\n</table>\n</div>",
                        "text/plain": "    Blowing Sand/Dirt  Clear  Fog/Smog/Smoke  Overcast  Severe Crosswind  \\\n8                   0      1               0         0                 0   \n44                  0      0               0         0                 0   \n72                  0      1               0         0                 0   \n85                  0      1               0         0                 0   \n91                  0      1               0         0                 0   \n\n    Sleet/Hail/Freezing Rain  Snowing  Dry  Ice  Oil  Sand/Mud/Dirt  \\\n8                          0        0    1    0    0              0   \n44                         0        0    0    0    0              0   \n72                         0        0    1    0    0              0   \n85                         0        0    1    0    0              0   \n91                         0        0    1    0    0              0   \n\n    Snow/Slush  Wet  Dark - No Street Lights  Dark - Street Lights Off  \\\n8            0    0                        0                         0   \n44           0    1                        0                         0   \n72           0    0                        0                         0   \n85           0    0                        0                         0   \n91           0    0                        0                         0   \n\n    Dark - Street Lights On  Dawn  Daylight  Dusk  \n8                         0     0         1     0  \n44                        1     0         0     0  \n72                        0     0         1     0  \n85                        0     0         1     0  \n91                        0     0         1     0  "
                    },
                    "execution_count": 40,
                    "metadata": {},
                    "output_type": "execute_result"
                }
            ],
            "source": "# define feature sets X\nX = Feature\nX[0:5]"
        },
        {
            "cell_type": "code",
            "execution_count": 41,
            "metadata": {},
            "outputs": [
                {
                    "data": {
                        "text/plain": "array([2, 2, 2, 2, 2])"
                    },
                    "execution_count": 41,
                    "metadata": {},
                    "output_type": "execute_result"
                }
            ],
            "source": "# what are our labels\ny = df23[\"SEVERITYCODE\"].values\ny[0:5]"
        },
        {
            "cell_type": "code",
            "execution_count": 42,
            "metadata": {},
            "outputs": [
                {
                    "name": "stdout",
                    "output_type": "stream",
                    "text": "Train set: (17740, 19) (17740,)\nTest set: (4436, 19) (4436,)\n"
                }
            ],
            "source": "# using K Nearest Neighbor(KNN) to use the training set to build a model and then use the test set to report the accuracy of the model\n\nfrom sklearn.model_selection import train_test_split\nX_train, X_test, y_train, y_test = train_test_split( X, y, test_size=0.2, random_state=4)\nprint (\"Train set:\", X_train.shape, y_train.shape)\nprint (\"Test set:\", X_test.shape, y_test.shape)"
        },
        {
            "cell_type": "code",
            "execution_count": 43,
            "metadata": {},
            "outputs": [],
            "source": "from sklearn.neighbors import KNeighborsClassifier"
        },
        {
            "cell_type": "code",
            "execution_count": 44,
            "metadata": {},
            "outputs": [
                {
                    "data": {
                        "text/plain": "KNeighborsClassifier(n_neighbors=65)"
                    },
                    "execution_count": 44,
                    "metadata": {},
                    "output_type": "execute_result"
                }
            ],
            "source": "k = 65\nneigh = KNeighborsClassifier(n_neighbors = k).fit(X_train,y_train)\nneigh"
        },
        {
            "cell_type": "code",
            "execution_count": 45,
            "metadata": {},
            "outputs": [
                {
                    "data": {
                        "text/plain": "array([2, 1, 1, 1, 1])"
                    },
                    "execution_count": 45,
                    "metadata": {},
                    "output_type": "execute_result"
                }
            ],
            "source": "yhat = neigh.predict(X_test)\nyhat[0:5]"
        },
        {
            "cell_type": "code",
            "execution_count": 46,
            "metadata": {},
            "outputs": [
                {
                    "name": "stdout",
                    "output_type": "stream",
                    "text": "Train set Accuracy:  0.5098647125140925\nTest set Accuracy:  0.4981965734896303\n"
                }
            ],
            "source": "from sklearn import metrics\nprint(\"Train set Accuracy: \", metrics.accuracy_score(y_train, neigh.predict(X_train)))\nprint(\"Test set Accuracy: \", metrics.accuracy_score(y_test, yhat))"
        },
        {
            "cell_type": "code",
            "execution_count": 47,
            "metadata": {},
            "outputs": [],
            "source": "from sklearn import preprocessing"
        },
        {
            "cell_type": "code",
            "execution_count": 48,
            "metadata": {},
            "outputs": [],
            "source": "# MODEL EVALUATION\nfrom sklearn.metrics import jaccard_score\nfrom sklearn.metrics import f1_score\nfrom sklearn.metrics import log_loss"
        },
        {
            "cell_type": "code",
            "execution_count": 49,
            "metadata": {},
            "outputs": [
                {
                    "data": {
                        "text/plain": "array([0.52569883, 0.52885482, 0.52750225, 0.53201082, 0.53449053,\n       0.53516682, 0.53403968, 0.54688909, 0.54598738, 0.54643823,\n       0.54959423, 0.49706943, 0.49165915, 0.49458972, 0.49481515,\n       0.49504058, 0.49436429, 0.49549143, 0.49616772, 0.49571686,\n       0.49661858, 0.49143372, 0.49526601, 0.49797115, 0.49864743,\n       0.49504058, 0.49774572, 0.49594229, 0.49549143, 0.49481515,\n       0.49526601, 0.49819657, 0.49729486, 0.49819657, 0.49661858,\n       0.49661858, 0.49706943, 0.49797115, 0.49819657, 0.498422  ,\n       0.49864743, 0.49774572, 0.49864743, 0.49706943, 0.49729486,\n       0.49887286, 0.498422  , 0.49864743, 0.49797115, 0.498422  ,\n       0.498422  , 0.49819657, 0.49752029, 0.49819657, 0.49887286,\n       0.5       , 0.49864743, 0.49932372, 0.49864743, 0.49909829,\n       0.49887286, 0.49887286, 0.49932372, 0.50135257])"
                    },
                    "execution_count": 49,
                    "metadata": {},
                    "output_type": "execute_result"
                }
            ],
            "source": "# running evaluation on different K's\nKs = 65\nmean_acc = np.zeros((Ks-1))\nstd_acc = np.zeros((Ks-1))\nConfustionMx = [];\nfor n in range(1,Ks):\n    neigh = KNeighborsClassifier(n_neighbors = n).fit(X_train,y_train)\n    yhat=neigh.predict(X_test)\n    mean_acc[n-1] = metrics.accuracy_score(y_test, yhat)\n    \n    std_acc[n-1]=np.std(yhat==y_test)/np.sqrt(yhat.shape[0])\n    \nmean_acc"
        },
        {
            "cell_type": "code",
            "execution_count": 50,
            "metadata": {},
            "outputs": [
                {
                    "data": {
                        "image/png": "[encoded data removed]",
                        "text/plain": "<Figure size 432x288 with 1 Axes>"
                    },
                    "metadata": {
                        "needs_background": "light"
                    },
                    "output_type": "display_data"
                }
            ],
            "source": "# visulazing what K is optimum\nplt.plot(range(1,Ks),mean_acc,'g')\nplt.fill_between(range(1,Ks),mean_acc - 1 * std_acc,mean_acc + 1 * std_acc, alpha=0.10)\nplt.legend(('Accuracy ', '+/- 3xstd'))\nplt.ylabel('Accuracy ')\nplt.xlabel('Number of Nabors (K)')\nplt.tight_layout()\nplt.show()"
        },
        {
            "cell_type": "code",
            "execution_count": 51,
            "metadata": {},
            "outputs": [
                {
                    "data": {
                        "text/plain": "KNeighborsClassifier(n_neighbors=65)"
                    },
                    "execution_count": 51,
                    "metadata": {},
                    "output_type": "execute_result"
                }
            ],
            "source": "# prepare to run with K65\nk = 65\nneigh = KNeighborsClassifier(n_neighbors = k).fit(X_train,y_train)\nneigh"
        },
        {
            "cell_type": "code",
            "execution_count": 52,
            "metadata": {},
            "outputs": [
                {
                    "data": {
                        "text/plain": "array([2, 1, 1, 1, 1])"
                    },
                    "execution_count": 52,
                    "metadata": {},
                    "output_type": "execute_result"
                }
            ],
            "source": "yhat = neigh.predict(X_test)\nyhat[0:5]"
        },
        {
            "cell_type": "code",
            "execution_count": 53,
            "metadata": {},
            "outputs": [
                {
                    "name": "stdout",
                    "output_type": "stream",
                    "text": "Train set Accuracy:  0.5098647125140925\nTest set Accuracy:  0.4981965734896303\n"
                }
            ],
            "source": "print(\"Train set Accuracy: \", metrics.accuracy_score(y_train, neigh.predict(X_train)))\nprint(\"Test set Accuracy: \", metrics.accuracy_score(y_test, yhat))"
        },
        {
            "cell_type": "code",
            "execution_count": 54,
            "metadata": {},
            "outputs": [
                {
                    "name": "stdout",
                    "output_type": "stream",
                    "text": "[[1815    0]\n [   0    0]]\n"
                }
            ],
            "source": "from sklearn.metrics import classification_report, confusion_matrix\nimport itertools\ndef plot_confusion_matrix(cm, classes,\n                          normalize=False,\n                          title='Confusion matrix',\n                          cmap=plt.cm.Blues):\n    \"\"\"\n    This function prints and plots the confusion matrix.\n    Normalization can be applied by setting `normalize=True`.\n    \"\"\"\n    if normalize:\n        cm = cm.astype('float') / cm.sum(axis=1)[:, np.newaxis]\n        print(\"Normalized confusion matrix\")\n    else:\n        print('Confusion matrix, without normalization')\n\n    print(cm)\n\n    plt.imshow(cm, interpolation='nearest', cmap=cmap)\n    plt.title(title)\n    plt.colorbar()\n    tick_marks = np.arange(len(classes))\n    plt.xticks(tick_marks, classes, rotation=45)\n    plt.yticks(tick_marks, classes)\n\n    fmt = '.2f' if normalize else 'd'\n    thresh = cm.max() / 2.\n    for i, j in itertools.product(range(cm.shape[0]), range(cm.shape[1])):\n        plt.text(j, i, format(cm[i, j], fmt),\n                 horizontalalignment=\"center\",\n                 color=\"white\" if cm[i, j] > thresh else \"black\")\n\n    plt.tight_layout()\n    plt.ylabel('True label')\n    plt.xlabel('Predicted label')\nprint(confusion_matrix(y_test, yhat, labels=[1,0]))"
        },
        {
            "cell_type": "code",
            "execution_count": 55,
            "metadata": {},
            "outputs": [
                {
                    "name": "stdout",
                    "output_type": "stream",
                    "text": "Confusion matrix, without normalization\n[[1815    0]\n [   0    0]]\n"
                },
                {
                    "data": {
                        "image/png": "[encoded data removed]",
                        "text/plain": "<Figure size 432x288 with 2 Axes>"
                    },
                    "metadata": {
                        "needs_background": "light"
                    },
                    "output_type": "display_data"
                }
            ],
            "source": "# Compute confusion matrix\ncnf_matrix = confusion_matrix(y_test, yhat, labels=[1,0])\nnp.set_printoptions(precision=2)\n\n\n# Plot non-normalized confusion matrix\nplt.figure()\nplot_confusion_matrix(cnf_matrix, classes=['severitycode=1','severitycode=2'],normalize= False,  title='Confusion matrix')"
        },
        {
            "cell_type": "code",
            "execution_count": 56,
            "metadata": {},
            "outputs": [
                {
                    "name": "stdout",
                    "output_type": "stream",
                    "text": "              precision    recall  f1-score   support\n\n           1       0.50      0.82      0.62      2214\n           2       0.50      0.18      0.26      2222\n\n    accuracy                           0.50      4436\n   macro avg       0.50      0.50      0.44      4436\nweighted avg       0.50      0.50      0.44      4436\n\n"
                }
            ],
            "source": "print (classification_report(y_test, yhat))"
        },
        {
            "cell_type": "code",
            "execution_count": 57,
            "metadata": {},
            "outputs": [],
            "source": "# DECISION TREE\nfrom sklearn.tree import DecisionTreeClassifier"
        },
        {
            "cell_type": "code",
            "execution_count": 58,
            "metadata": {},
            "outputs": [],
            "source": "X_trainset, X_testset, y_trainset, y_testset = train_test_split(X, y, test_size=0.3, random_state=3)"
        },
        {
            "cell_type": "code",
            "execution_count": 59,
            "metadata": {},
            "outputs": [
                {
                    "data": {
                        "text/plain": "DecisionTreeClassifier(criterion='entropy', max_depth=4)"
                    },
                    "execution_count": 59,
                    "metadata": {},
                    "output_type": "execute_result"
                }
            ],
            "source": "accTree = DecisionTreeClassifier(criterion='entropy', max_depth = 4)\naccTree.fit(X_trainset,y_trainset)\naccTree"
        },
        {
            "cell_type": "code",
            "execution_count": 60,
            "metadata": {},
            "outputs": [
                {
                    "name": "stdout",
                    "output_type": "stream",
                    "text": "[1 2 1 1 2]\n[2 1 2 2 1]\n"
                }
            ],
            "source": "predTree = accTree.predict(X_testset)\nprint (predTree [0:5])\nprint (y_testset [0:5])"
        },
        {
            "cell_type": "code",
            "execution_count": 61,
            "metadata": {},
            "outputs": [
                {
                    "name": "stdout",
                    "output_type": "stream",
                    "text": "DecisionTrees's Accuracy:  0.5662107320006012\n"
                }
            ],
            "source": "print(\"DecisionTrees's Accuracy: \", metrics.accuracy_score(y_testset, predTree))"
        },
        {
            "cell_type": "code",
            "execution_count": 62,
            "metadata": {},
            "outputs": [],
            "source": "#LOGISTIC REGRESSION\nimport pylab as pl\nimport scipy.optimize as opt"
        },
        {
            "cell_type": "code",
            "execution_count": 63,
            "metadata": {},
            "outputs": [
                {
                    "data": {
                        "text/plain": "array([[0, 1, 0, 0, 0, 0, 0, 1, 0, 0, 0, 0, 0, 0, 0, 0, 0, 1, 0],\n       [0, 0, 0, 0, 0, 0, 0, 0, 0, 0, 0, 0, 1, 0, 0, 1, 0, 0, 0],\n       [0, 1, 0, 0, 0, 0, 0, 1, 0, 0, 0, 0, 0, 0, 0, 0, 0, 1, 0],\n       [0, 1, 0, 0, 0, 0, 0, 1, 0, 0, 0, 0, 0, 0, 0, 0, 0, 1, 0],\n       [0, 1, 0, 0, 0, 0, 0, 1, 0, 0, 0, 0, 0, 0, 0, 0, 0, 1, 0]],\n      dtype=uint8)"
                    },
                    "execution_count": 63,
                    "metadata": {},
                    "output_type": "execute_result"
                }
            ],
            "source": "Xr = np.asarray(df23[['Blowing Sand/Dirt', 'Clear', 'Fog/Smog/Smoke', 'Overcast', 'Severe Crosswind', 'Sleet/Hail/Freezing Rain', 'Snowing', 'Dry', 'Ice', 'Oil', 'Sand/Mud/Dirt', 'Snow/Slush', 'Wet', 'Dark - No Street Lights', 'Dark - Street Lights Off', 'Dark - Street Lights On', 'Dawn', 'Daylight', 'Dusk']])\n\nXr[0:5]"
        },
        {
            "cell_type": "code",
            "execution_count": 64,
            "metadata": {},
            "outputs": [
                {
                    "data": {
                        "text/plain": "array([2, 2, 2, 2, 2])"
                    },
                    "execution_count": 64,
                    "metadata": {},
                    "output_type": "execute_result"
                }
            ],
            "source": "yr = np.asarray(df23['SEVERITYCODE'])\nyr [0:5]"
        },
        {
            "cell_type": "code",
            "execution_count": 65,
            "metadata": {},
            "outputs": [
                {
                    "name": "stdout",
                    "output_type": "stream",
                    "text": "Train set: (17740, 19) (17740,)\nTest set: (4436, 19) (4436,)\n"
                }
            ],
            "source": "Xr_train, Xr_test, yr_train, yr_test = train_test_split( Xr, yr, test_size=0.2, random_state=4)\nprint ('Train set:', Xr_train.shape,  yr_train.shape)\nprint ('Test set:', Xr_test.shape,  yr_test.shape)"
        },
        {
            "cell_type": "code",
            "execution_count": 66,
            "metadata": {},
            "outputs": [
                {
                    "data": {
                        "text/plain": "LogisticRegression(C=0.01, solver='liblinear')"
                    },
                    "execution_count": 66,
                    "metadata": {},
                    "output_type": "execute_result"
                }
            ],
            "source": "from sklearn.linear_model import LogisticRegression\nLR = LogisticRegression(C=0.01, solver='liblinear').fit(Xr_train,yr_train)\nLR"
        },
        {
            "cell_type": "code",
            "execution_count": 67,
            "metadata": {},
            "outputs": [
                {
                    "data": {
                        "text/plain": "array([2, 2, 2, ..., 1, 1, 2])"
                    },
                    "execution_count": 67,
                    "metadata": {},
                    "output_type": "execute_result"
                }
            ],
            "source": "# Now we can predict using our test set\nyhatr = LR.predict(Xr_test)\nyhatr"
        },
        {
            "cell_type": "code",
            "execution_count": 68,
            "metadata": {},
            "outputs": [
                {
                    "data": {
                        "text/plain": "array([[0.46, 0.54],\n       [0.49, 0.51],\n       [0.44, 0.56],\n       ...,\n       [0.56, 0.44],\n       [0.55, 0.45],\n       [0.44, 0.56]])"
                    },
                    "execution_count": 68,
                    "metadata": {},
                    "output_type": "execute_result"
                }
            ],
            "source": "# predict_proba returns estimates for all classes, ordered by the label of classes. So, the first column is the probability of severity code 1 and second column is probability of severity code 2\nyhatr_prob = LR.predict_proba(Xr_test)\nyhatr_prob"
        },
        {
            "cell_type": "code",
            "execution_count": 69,
            "metadata": {},
            "outputs": [
                {
                    "data": {
                        "text/plain": "0.3559870550161812"
                    },
                    "execution_count": 69,
                    "metadata": {},
                    "output_type": "execute_result"
                }
            ],
            "source": "from sklearn.metrics import jaccard_score\njaccard_score(yr_test, yhatr)"
        },
        {
            "cell_type": "code",
            "execution_count": 70,
            "metadata": {},
            "outputs": [
                {
                    "name": "stdout",
                    "output_type": "stream",
                    "text": "              precision    recall  f1-score   support\n\n           1       0.56      0.50      0.53      2214\n           2       0.55      0.61      0.57      2222\n\n    accuracy                           0.55      4436\n   macro avg       0.55      0.55      0.55      4436\nweighted avg       0.55      0.55      0.55      4436\n\n"
                }
            ],
            "source": "print (classification_report(yr_test, yhatr))"
        },
        {
            "cell_type": "code",
            "execution_count": 71,
            "metadata": {},
            "outputs": [
                {
                    "data": {
                        "text/plain": "0.6863848211685584"
                    },
                    "execution_count": 71,
                    "metadata": {},
                    "output_type": "execute_result"
                }
            ],
            "source": "from sklearn.metrics import log_loss\nlog_loss(yr_test, yhatr_prob)"
        },
        {
            "cell_type": "code",
            "execution_count": 72,
            "metadata": {},
            "outputs": [],
            "source": "# SUPPORT VECTOR MACHINE"
        },
        {
            "cell_type": "code",
            "execution_count": 73,
            "metadata": {},
            "outputs": [
                {
                    "data": {
                        "text/plain": "SVC()"
                    },
                    "execution_count": 73,
                    "metadata": {},
                    "output_type": "execute_result"
                }
            ],
            "source": "from sklearn import svm\nclf = svm.SVC(kernel='rbf')\nclf.fit(Xr_train, yr_train)"
        },
        {
            "cell_type": "code",
            "execution_count": 74,
            "metadata": {},
            "outputs": [
                {
                    "data": {
                        "text/plain": "array([2, 1, 2, 1, 1])"
                    },
                    "execution_count": 74,
                    "metadata": {},
                    "output_type": "execute_result"
                }
            ],
            "source": "yhat2 = clf.predict(Xr_test)\nyhat2 [0:5]"
        },
        {
            "cell_type": "code",
            "execution_count": 75,
            "metadata": {},
            "outputs": [
                {
                    "data": {
                        "text/plain": "0.5529758127604528"
                    },
                    "execution_count": 75,
                    "metadata": {},
                    "output_type": "execute_result"
                }
            ],
            "source": "from sklearn.metrics import f1_score\nf1_score(yr_test, yhat2, average='weighted') "
        },
        {
            "cell_type": "code",
            "execution_count": 76,
            "metadata": {},
            "outputs": [
                {
                    "data": {
                        "text/plain": "0.3814722395508422"
                    },
                    "execution_count": 76,
                    "metadata": {},
                    "output_type": "execute_result"
                }
            ],
            "source": "jaccard_score(yr_test, yhat2)"
        },
        {
            "cell_type": "code",
            "execution_count": 78,
            "metadata": {},
            "outputs": [
                {
                    "data": {
                        "text/html": "<div>\n<style scoped>\n    .dataframe tbody tr th:only-of-type {\n        vertical-align: middle;\n    }\n\n    .dataframe tbody tr th {\n        vertical-align: top;\n    }\n\n    .dataframe thead th {\n        text-align: right;\n    }\n</style>\n<table border=\"1\" class=\"dataframe\">\n  <thead>\n    <tr style=\"text-align: right;\">\n      <th></th>\n      <th>SEVERITYCODE</th>\n      <th>Clear</th>\n      <th>Dry</th>\n      <th>Daylight</th>\n    </tr>\n  </thead>\n  <tbody>\n    <tr>\n      <th>8</th>\n      <td>2</td>\n      <td>1</td>\n      <td>1</td>\n      <td>1</td>\n    </tr>\n    <tr>\n      <th>44</th>\n      <td>2</td>\n      <td>0</td>\n      <td>0</td>\n      <td>0</td>\n    </tr>\n    <tr>\n      <th>72</th>\n      <td>2</td>\n      <td>1</td>\n      <td>1</td>\n      <td>1</td>\n    </tr>\n    <tr>\n      <th>85</th>\n      <td>2</td>\n      <td>1</td>\n      <td>1</td>\n      <td>1</td>\n    </tr>\n    <tr>\n      <th>91</th>\n      <td>2</td>\n      <td>1</td>\n      <td>1</td>\n      <td>1</td>\n    </tr>\n  </tbody>\n</table>\n</div>",
                        "text/plain": "    SEVERITYCODE  Clear  Dry  Daylight\n8              2      1    1         1\n44             2      0    0         0\n72             2      1    1         1\n85             2      1    1         1\n91             2      1    1         1"
                    },
                    "execution_count": 78,
                    "metadata": {},
                    "output_type": "execute_result"
                }
            ],
            "source": "df24 = df23[['SEVERITYCODE', 'Clear', 'Dry', 'Daylight']]\ndf24.head()"
        },
        {
            "cell_type": "code",
            "execution_count": 79,
            "metadata": {},
            "outputs": [
                {
                    "data": {
                        "text/plain": "(22176, 3)"
                    },
                    "execution_count": 79,
                    "metadata": {},
                    "output_type": "execute_result"
                }
            ],
            "source": "Feature_1 = df24[['Clear', 'Dry', 'Daylight']]\nFeature_1.shape"
        },
        {
            "cell_type": "code",
            "execution_count": 80,
            "metadata": {},
            "outputs": [
                {
                    "data": {
                        "text/html": "<div>\n<style scoped>\n    .dataframe tbody tr th:only-of-type {\n        vertical-align: middle;\n    }\n\n    .dataframe tbody tr th {\n        vertical-align: top;\n    }\n\n    .dataframe thead th {\n        text-align: right;\n    }\n</style>\n<table border=\"1\" class=\"dataframe\">\n  <thead>\n    <tr style=\"text-align: right;\">\n      <th></th>\n      <th>Clear</th>\n      <th>Dry</th>\n      <th>Daylight</th>\n    </tr>\n  </thead>\n  <tbody>\n    <tr>\n      <th>8</th>\n      <td>1</td>\n      <td>1</td>\n      <td>1</td>\n    </tr>\n    <tr>\n      <th>44</th>\n      <td>0</td>\n      <td>0</td>\n      <td>0</td>\n    </tr>\n    <tr>\n      <th>72</th>\n      <td>1</td>\n      <td>1</td>\n      <td>1</td>\n    </tr>\n    <tr>\n      <th>85</th>\n      <td>1</td>\n      <td>1</td>\n      <td>1</td>\n    </tr>\n    <tr>\n      <th>91</th>\n      <td>1</td>\n      <td>1</td>\n      <td>1</td>\n    </tr>\n  </tbody>\n</table>\n</div>",
                        "text/plain": "    Clear  Dry  Daylight\n8       1    1         1\n44      0    0         0\n72      1    1         1\n85      1    1         1\n91      1    1         1"
                    },
                    "execution_count": 80,
                    "metadata": {},
                    "output_type": "execute_result"
                }
            ],
            "source": "X_1 = Feature_1\nX_1[0:5]"
        },
        {
            "cell_type": "code",
            "execution_count": 82,
            "metadata": {},
            "outputs": [
                {
                    "data": {
                        "text/plain": "array([2, 2, 2, 2, 2])"
                    },
                    "execution_count": 82,
                    "metadata": {},
                    "output_type": "execute_result"
                }
            ],
            "source": "y_1 = df24[\"SEVERITYCODE\"].values\ny_1[0:5]"
        },
        {
            "cell_type": "code",
            "execution_count": 83,
            "metadata": {},
            "outputs": [
                {
                    "name": "stdout",
                    "output_type": "stream",
                    "text": "Train set: (17740, 3) (17740,)\nTest set: (4436, 3) (4436,)\n"
                }
            ],
            "source": "X_1_train, X_1_test, y_1_train, y_1_test = train_test_split( X_1, y_1, test_size=0.2, random_state=4)\nprint (\"Train set:\", X_1_train.shape, y_1_train.shape)\nprint (\"Test set:\", X_1_test.shape, y_1_test.shape)"
        },
        {
            "cell_type": "code",
            "execution_count": 88,
            "metadata": {},
            "outputs": [
                {
                    "data": {
                        "text/plain": "array([0.47, 0.49, 0.49, 0.5 , 0.5 , 0.5 , 0.5 , 0.5 , 0.47, 0.48, 0.48,\n       0.48, 0.48, 0.48, 0.48, 0.5 , 0.49, 0.5 , 0.55, 0.55, 0.55, 0.55,\n       0.55, 0.55, 0.55, 0.55, 0.55, 0.55, 0.55, 0.55, 0.55, 0.55, 0.55,\n       0.55, 0.55, 0.55, 0.55, 0.55, 0.55, 0.55, 0.55, 0.55, 0.55, 0.55,\n       0.55, 0.55, 0.55, 0.55, 0.55])"
                    },
                    "execution_count": 88,
                    "metadata": {},
                    "output_type": "execute_result"
                }
            ],
            "source": "Ks = 50\nmean_acc_1 = np.zeros((Ks-1))\nstd_acc = np.zeros((Ks-1))\nConfustionMx = [];\nfor n in range(1,Ks):\n    neigh = KNeighborsClassifier(n_neighbors = n).fit(X_1_train,y_1_train)\n    yhat_1=neigh.predict(X_1_test)\n    mean_acc_1[n-1] = metrics.accuracy_score(y_1_test, yhat_1)\n    \n    std_acc[n-1]=np.std(yhat_1==y_1_test)/np.sqrt(yhat_1.shape[0])\n    \nmean_acc_1"
        },
        {
            "cell_type": "code",
            "execution_count": 89,
            "metadata": {},
            "outputs": [
                {
                    "data": {
                        "image/png": "[encoded data removed]",
                        "text/plain": "<Figure size 432x288 with 1 Axes>"
                    },
                    "metadata": {
                        "needs_background": "light"
                    },
                    "output_type": "display_data"
                }
            ],
            "source": "plt.plot(range(1,Ks),mean_acc_1,'g')\nplt.fill_between(range(1,Ks),mean_acc_1 - 1 * std_acc,mean_acc_1 + 1 * std_acc, alpha=0.10)\nplt.legend(('Accuracy ', '+/- 3xstd'))\nplt.ylabel('Accuracy ')\nplt.xlabel('Number of Nabors (K)')\nplt.tight_layout()\nplt.show()"
        },
        {
            "cell_type": "code",
            "execution_count": 90,
            "metadata": {},
            "outputs": [
                {
                    "data": {
                        "text/plain": "KNeighborsClassifier(n_neighbors=25)"
                    },
                    "execution_count": 90,
                    "metadata": {},
                    "output_type": "execute_result"
                }
            ],
            "source": "k = 25\nneigh_1 = KNeighborsClassifier(n_neighbors = k).fit(X_1_train,y_1_train)\nneigh_1"
        },
        {
            "cell_type": "code",
            "execution_count": 91,
            "metadata": {},
            "outputs": [
                {
                    "data": {
                        "text/plain": "array([2, 2, 2, 1, 1])"
                    },
                    "execution_count": 91,
                    "metadata": {},
                    "output_type": "execute_result"
                }
            ],
            "source": "yhat_1 = neigh_1.predict(X_1_test)\nyhat_1[0:5]"
        },
        {
            "cell_type": "code",
            "execution_count": 92,
            "metadata": {},
            "outputs": [
                {
                    "name": "stdout",
                    "output_type": "stream",
                    "text": "Train set Accuracy:  0.5541713641488162\nTest set Accuracy:  0.5484670874661858\n"
                }
            ],
            "source": "print(\"Train set Accuracy: \", metrics.accuracy_score(y_1_train, neigh_1.predict(X_1_train)))\nprint(\"Test set Accuracy: \", metrics.accuracy_score(y_1_test, yhat_1))"
        },
        {
            "cell_type": "code",
            "execution_count": null,
            "metadata": {},
            "outputs": [],
            "source": ""
        }
    ],
    "metadata": {
        "kernelspec": {
            "display_name": "Python 3.7",
            "language": "python",
            "name": "python3"
        },
        "language_info": {
            "codemirror_mode": {
                "name": "ipython",
                "version": 3
            },
            "file_extension": ".py",
            "mimetype": "text/x-python",
            "name": "python",
            "nbconvert_exporter": "python",
            "pygments_lexer": "ipython3",
            "version": "3.7.9"
        }
    },
    "nbformat": 4,
    "nbformat_minor": 1
}